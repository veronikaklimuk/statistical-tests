{
 "cells": [
  {
   "cell_type": "markdown",
   "metadata": {},
   "source": [
    "# E-learning Platform Analysis"
   ]
  },
  {
   "cell_type": "markdown",
   "metadata": {},
   "source": [
    "## About"
   ]
  },
  {
   "cell_type": "markdown",
   "metadata": {},
   "source": [
    "E-learning Platform has conducted an A/B test. One group of users was offered a new payment method, while the other had a previous version.\n",
    "\n",
    "**Objectives**:\n",
    "1. Evaluate experiment results and decide whether to roll out new feature or not.\n",
    "2. Create a function to automate the process of metrics calculation and visualization.\n",
    "3. Create SQL-queries to calculate main metrics.\n",
    "\n",
    "**Summary**: \n",
    "\n",
    "A/B test results show that new payment method did not affect CR and ARPU significantly, while there is statistical significance in a set of given observations for ARPPU.\n",
    "As far as there are also some data anomalies, **the next steps would be**:\n",
    "- investigate whether there were some marketing campaigns or other experiments that could have influenced our results;\n",
    "- postpone new payment method roll-out until further clarifications."
   ]
  },
  {
   "cell_type": "markdown",
   "metadata": {},
   "source": [
    "## Data Preprocessing"
   ]
  },
  {
   "cell_type": "code",
   "execution_count": 1,
   "metadata": {},
   "outputs": [
    {
     "data": {
      "application/javascript": [
       "\n",
       "            setTimeout(function() {\n",
       "                var nbb_cell_id = 1;\n",
       "                var nbb_unformatted_code = \"%load_ext nb_black\";\n",
       "                var nbb_formatted_code = \"%load_ext nb_black\";\n",
       "                var nbb_cells = Jupyter.notebook.get_cells();\n",
       "                for (var i = 0; i < nbb_cells.length; ++i) {\n",
       "                    if (nbb_cells[i].input_prompt_number == nbb_cell_id) {\n",
       "                        if (nbb_cells[i].get_text() == nbb_unformatted_code) {\n",
       "                             nbb_cells[i].set_text(nbb_formatted_code);\n",
       "                        }\n",
       "                        break;\n",
       "                    }\n",
       "                }\n",
       "            }, 500);\n",
       "            "
      ],
      "text/plain": [
       "<IPython.core.display.Javascript object>"
      ]
     },
     "metadata": {},
     "output_type": "display_data"
    }
   ],
   "source": [
    "%load_ext nb_black"
   ]
  },
  {
   "cell_type": "code",
   "execution_count": 2,
   "metadata": {},
   "outputs": [
    {
     "data": {
      "application/javascript": [
       "\n",
       "            setTimeout(function() {\n",
       "                var nbb_cell_id = 2;\n",
       "                var nbb_unformatted_code = \"# Import packages\\n\\nimport pandas as pd\\nimport numpy as np\\nimport pingouin as pg\\nimport scipy\\nfrom scipy.stats import norm, chi2_contingency\\nfrom statsmodels.stats.proportion import proportions_ztest, proportion_confint\\nfrom tqdm.auto import tqdm\\nimport pandahouse as ph\\n\\nimport matplotlib.pyplot as plt\\nimport seaborn as sns\";\n",
       "                var nbb_formatted_code = \"# Import packages\\n\\nimport pandas as pd\\nimport numpy as np\\nimport pingouin as pg\\nimport scipy\\nfrom scipy.stats import norm, chi2_contingency\\nfrom statsmodels.stats.proportion import proportions_ztest, proportion_confint\\nfrom tqdm.auto import tqdm\\nimport pandahouse as ph\\n\\nimport matplotlib.pyplot as plt\\nimport seaborn as sns\";\n",
       "                var nbb_cells = Jupyter.notebook.get_cells();\n",
       "                for (var i = 0; i < nbb_cells.length; ++i) {\n",
       "                    if (nbb_cells[i].input_prompt_number == nbb_cell_id) {\n",
       "                        if (nbb_cells[i].get_text() == nbb_unformatted_code) {\n",
       "                             nbb_cells[i].set_text(nbb_formatted_code);\n",
       "                        }\n",
       "                        break;\n",
       "                    }\n",
       "                }\n",
       "            }, 500);\n",
       "            "
      ],
      "text/plain": [
       "<IPython.core.display.Javascript object>"
      ]
     },
     "metadata": {},
     "output_type": "display_data"
    }
   ],
   "source": [
    "# Import packages\n",
    "\n",
    "import pandas as pd\n",
    "import numpy as np\n",
    "import pingouin as pg\n",
    "import scipy\n",
    "from scipy.stats import norm, chi2_contingency\n",
    "from statsmodels.stats.proportion import proportions_ztest, proportion_confint\n",
    "from tqdm.auto import tqdm\n",
    "import pandahouse as ph\n",
    "\n",
    "import matplotlib.pyplot as plt\n",
    "import seaborn as sns"
   ]
  },
  {
   "cell_type": "code",
   "execution_count": 3,
   "metadata": {},
   "outputs": [
    {
     "data": {
      "application/javascript": [
       "\n",
       "            setTimeout(function() {\n",
       "                var nbb_cell_id = 3;\n",
       "                var nbb_unformatted_code = \"DATA_PATH = \\\"/Users/veronika/Documents/Karpov Courses/ZIP/jupyter-v-klimuk-22/Project/\\\"\\n\\nPATH_TO_GROUPS = DATA_PATH + \\\"\\u041f\\u0440\\u043e\\u0435\\u043a\\u0442_2_groups.csv\\\"\\nPATH_TO_GROUP_ADD = DATA_PATH + \\\"\\u041f\\u0440\\u043e\\u0435\\u043a\\u0442_2_group_add.csv\\\"\\nPATH_TO_ACTIVE_STUDS = DATA_PATH + \\\"\\u041f\\u0440\\u043e\\u0435\\u043a\\u0442_2_active_studs.csv\\\"\\nPATH_TO_CHECKS = DATA_PATH + \\\"\\u041f\\u0440\\u043e\\u0435\\u043a\\u0442_2_checks.csv\\\"\";\n",
       "                var nbb_formatted_code = \"DATA_PATH = \\\"/Users/veronika/Documents/Karpov Courses/ZIP/jupyter-v-klimuk-22/Project/\\\"\\n\\nPATH_TO_GROUPS = DATA_PATH + \\\"\\u041f\\u0440\\u043e\\u0435\\u043a\\u0442_2_groups.csv\\\"\\nPATH_TO_GROUP_ADD = DATA_PATH + \\\"\\u041f\\u0440\\u043e\\u0435\\u043a\\u0442_2_group_add.csv\\\"\\nPATH_TO_ACTIVE_STUDS = DATA_PATH + \\\"\\u041f\\u0440\\u043e\\u0435\\u043a\\u0442_2_active_studs.csv\\\"\\nPATH_TO_CHECKS = DATA_PATH + \\\"\\u041f\\u0440\\u043e\\u0435\\u043a\\u0442_2_checks.csv\\\"\";\n",
       "                var nbb_cells = Jupyter.notebook.get_cells();\n",
       "                for (var i = 0; i < nbb_cells.length; ++i) {\n",
       "                    if (nbb_cells[i].input_prompt_number == nbb_cell_id) {\n",
       "                        if (nbb_cells[i].get_text() == nbb_unformatted_code) {\n",
       "                             nbb_cells[i].set_text(nbb_formatted_code);\n",
       "                        }\n",
       "                        break;\n",
       "                    }\n",
       "                }\n",
       "            }, 500);\n",
       "            "
      ],
      "text/plain": [
       "<IPython.core.display.Javascript object>"
      ]
     },
     "metadata": {},
     "output_type": "display_data"
    }
   ],
   "source": [
    "DATA_PATH = \"/Users/veronika/Documents/Projects/\"\n",
    "\n",
    "PATH_TO_GROUPS = DATA_PATH + \"groups.csv\"\n",
    "PATH_TO_GROUP_ADD = DATA_PATH + \"group_add.csv\"\n",
    "PATH_TO_ACTIVE_STUDS = DATA_PATH + \"active_studs.csv\"\n",
    "PATH_TO_CHECKS = DATA_PATH + \"checks.csv\""
   ]
  },
  {
   "cell_type": "markdown",
   "metadata": {},
   "source": [
    "#### `df_groups` is a dataset dividing users into 2 groups: A - control, B - test"
   ]
  },
  {
   "cell_type": "code",
   "execution_count": 4,
   "metadata": {
    "scrolled": false
   },
   "outputs": [
    {
     "name": "stdout",
     "output_type": "stream",
     "text": [
      "<class 'pandas.core.frame.DataFrame'>\n",
      "RangeIndex: 74484 entries, 0 to 74483\n",
      "Data columns (total 2 columns):\n",
      " #   Column  Non-Null Count  Dtype \n",
      "---  ------  --------------  ----- \n",
      " 0   id      74484 non-null  int64 \n",
      " 1   grp     74484 non-null  object\n",
      "dtypes: int64(1), object(1)\n",
      "memory usage: 1.1+ MB\n"
     ]
    },
    {
     "data": {
      "application/javascript": [
       "\n",
       "            setTimeout(function() {\n",
       "                var nbb_cell_id = 4;\n",
       "                var nbb_unformatted_code = \"df_groups = pd.read_csv(PATH_TO_GROUPS, sep=\\\";\\\")\\n\\ndf_groups.info()\";\n",
       "                var nbb_formatted_code = \"df_groups = pd.read_csv(PATH_TO_GROUPS, sep=\\\";\\\")\\n\\ndf_groups.info()\";\n",
       "                var nbb_cells = Jupyter.notebook.get_cells();\n",
       "                for (var i = 0; i < nbb_cells.length; ++i) {\n",
       "                    if (nbb_cells[i].input_prompt_number == nbb_cell_id) {\n",
       "                        if (nbb_cells[i].get_text() == nbb_unformatted_code) {\n",
       "                             nbb_cells[i].set_text(nbb_formatted_code);\n",
       "                        }\n",
       "                        break;\n",
       "                    }\n",
       "                }\n",
       "            }, 500);\n",
       "            "
      ],
      "text/plain": [
       "<IPython.core.display.Javascript object>"
      ]
     },
     "metadata": {},
     "output_type": "display_data"
    }
   ],
   "source": [
    "df_groups = pd.read_csv(PATH_TO_GROUPS, sep=\";\")\n",
    "\n",
    "df_groups.info()"
   ]
  },
  {
   "cell_type": "code",
   "execution_count": 5,
   "metadata": {},
   "outputs": [
    {
     "data": {
      "text/plain": [
       "0"
      ]
     },
     "execution_count": 5,
     "metadata": {},
     "output_type": "execute_result"
    },
    {
     "data": {
      "application/javascript": [
       "\n",
       "            setTimeout(function() {\n",
       "                var nbb_cell_id = 5;\n",
       "                var nbb_unformatted_code = \"# Check for duplicates\\n\\ndf_groups.duplicated().sum()\";\n",
       "                var nbb_formatted_code = \"# Check for duplicates\\n\\ndf_groups.duplicated().sum()\";\n",
       "                var nbb_cells = Jupyter.notebook.get_cells();\n",
       "                for (var i = 0; i < nbb_cells.length; ++i) {\n",
       "                    if (nbb_cells[i].input_prompt_number == nbb_cell_id) {\n",
       "                        if (nbb_cells[i].get_text() == nbb_unformatted_code) {\n",
       "                             nbb_cells[i].set_text(nbb_formatted_code);\n",
       "                        }\n",
       "                        break;\n",
       "                    }\n",
       "                }\n",
       "            }, 500);\n",
       "            "
      ],
      "text/plain": [
       "<IPython.core.display.Javascript object>"
      ]
     },
     "metadata": {},
     "output_type": "display_data"
    }
   ],
   "source": [
    "# Check for duplicates\n",
    "\n",
    "df_groups.duplicated().sum()"
   ]
  },
  {
   "cell_type": "code",
   "execution_count": 6,
   "metadata": {},
   "outputs": [
    {
     "data": {
      "text/html": [
       "<div>\n",
       "<style scoped>\n",
       "    .dataframe tbody tr th:only-of-type {\n",
       "        vertical-align: middle;\n",
       "    }\n",
       "\n",
       "    .dataframe tbody tr th {\n",
       "        vertical-align: top;\n",
       "    }\n",
       "\n",
       "    .dataframe thead th {\n",
       "        text-align: right;\n",
       "    }\n",
       "</style>\n",
       "<table border=\"1\" class=\"dataframe\">\n",
       "  <thead>\n",
       "    <tr style=\"text-align: right;\">\n",
       "      <th></th>\n",
       "      <th>grp</th>\n",
       "      <th>id</th>\n",
       "    </tr>\n",
       "  </thead>\n",
       "  <tbody>\n",
       "    <tr>\n",
       "      <th>0</th>\n",
       "      <td>A</td>\n",
       "      <td>14671</td>\n",
       "    </tr>\n",
       "    <tr>\n",
       "      <th>1</th>\n",
       "      <td>B</td>\n",
       "      <td>59813</td>\n",
       "    </tr>\n",
       "  </tbody>\n",
       "</table>\n",
       "</div>"
      ],
      "text/plain": [
       "  grp     id\n",
       "0   A  14671\n",
       "1   B  59813"
      ]
     },
     "execution_count": 6,
     "metadata": {},
     "output_type": "execute_result"
    },
    {
     "data": {
      "application/javascript": [
       "\n",
       "            setTimeout(function() {\n",
       "                var nbb_cell_id = 6;\n",
       "                var nbb_unformatted_code = \"# Calculate group sizes\\n\\ndf_groups.groupby(\\\"grp\\\", as_index=False).agg({\\\"id\\\": \\\"nunique\\\"})\";\n",
       "                var nbb_formatted_code = \"# Calculate group sizes\\n\\ndf_groups.groupby(\\\"grp\\\", as_index=False).agg({\\\"id\\\": \\\"nunique\\\"})\";\n",
       "                var nbb_cells = Jupyter.notebook.get_cells();\n",
       "                for (var i = 0; i < nbb_cells.length; ++i) {\n",
       "                    if (nbb_cells[i].input_prompt_number == nbb_cell_id) {\n",
       "                        if (nbb_cells[i].get_text() == nbb_unformatted_code) {\n",
       "                             nbb_cells[i].set_text(nbb_formatted_code);\n",
       "                        }\n",
       "                        break;\n",
       "                    }\n",
       "                }\n",
       "            }, 500);\n",
       "            "
      ],
      "text/plain": [
       "<IPython.core.display.Javascript object>"
      ]
     },
     "metadata": {},
     "output_type": "display_data"
    }
   ],
   "source": [
    "# Calculate group sizes\n",
    "\n",
    "df_groups.groupby(\"grp\", as_index=False).agg({\"id\": \"nunique\"})"
   ]
  },
  {
   "cell_type": "markdown",
   "metadata": {},
   "source": [
    "#### `df_active_studs` is a dataset with users that visited platform during the experiment"
   ]
  },
  {
   "cell_type": "code",
   "execution_count": 7,
   "metadata": {},
   "outputs": [
    {
     "name": "stdout",
     "output_type": "stream",
     "text": [
      "<class 'pandas.core.frame.DataFrame'>\n",
      "RangeIndex: 8341 entries, 0 to 8340\n",
      "Data columns (total 2 columns):\n",
      " #   Column  Non-Null Count  Dtype\n",
      "---  ------  --------------  -----\n",
      " 0   id      8341 non-null   int64\n",
      " 1   active  8341 non-null   int64\n",
      "dtypes: int64(2)\n",
      "memory usage: 130.5 KB\n"
     ]
    },
    {
     "data": {
      "application/javascript": [
       "\n",
       "            setTimeout(function() {\n",
       "                var nbb_cell_id = 7;\n",
       "                var nbb_unformatted_code = \"df_active_studs = (\\n    pd.read_csv(PATH_TO_ACTIVE_STUDS, sep=\\\";\\\")\\n    .rename(columns={\\\"student_id\\\": \\\"id\\\"})\\n    .assign(active=1)\\n)\\n\\ndf_active_studs.info()\";\n",
       "                var nbb_formatted_code = \"df_active_studs = (\\n    pd.read_csv(PATH_TO_ACTIVE_STUDS, sep=\\\";\\\")\\n    .rename(columns={\\\"student_id\\\": \\\"id\\\"})\\n    .assign(active=1)\\n)\\n\\ndf_active_studs.info()\";\n",
       "                var nbb_cells = Jupyter.notebook.get_cells();\n",
       "                for (var i = 0; i < nbb_cells.length; ++i) {\n",
       "                    if (nbb_cells[i].input_prompt_number == nbb_cell_id) {\n",
       "                        if (nbb_cells[i].get_text() == nbb_unformatted_code) {\n",
       "                             nbb_cells[i].set_text(nbb_formatted_code);\n",
       "                        }\n",
       "                        break;\n",
       "                    }\n",
       "                }\n",
       "            }, 500);\n",
       "            "
      ],
      "text/plain": [
       "<IPython.core.display.Javascript object>"
      ]
     },
     "metadata": {},
     "output_type": "display_data"
    }
   ],
   "source": [
    "df_active_studs = (\n",
    "    pd.read_csv(PATH_TO_ACTIVE_STUDS, sep=\";\")\n",
    "    .rename(columns={\"student_id\": \"id\"})\n",
    "    .assign(active=1)\n",
    ")\n",
    "\n",
    "df_active_studs.info()"
   ]
  },
  {
   "cell_type": "code",
   "execution_count": 8,
   "metadata": {},
   "outputs": [
    {
     "data": {
      "text/plain": [
       "0"
      ]
     },
     "execution_count": 8,
     "metadata": {},
     "output_type": "execute_result"
    },
    {
     "data": {
      "application/javascript": [
       "\n",
       "            setTimeout(function() {\n",
       "                var nbb_cell_id = 8;\n",
       "                var nbb_unformatted_code = \"# Check for duplicates\\n\\ndf_active_studs.duplicated().sum()\";\n",
       "                var nbb_formatted_code = \"# Check for duplicates\\n\\ndf_active_studs.duplicated().sum()\";\n",
       "                var nbb_cells = Jupyter.notebook.get_cells();\n",
       "                for (var i = 0; i < nbb_cells.length; ++i) {\n",
       "                    if (nbb_cells[i].input_prompt_number == nbb_cell_id) {\n",
       "                        if (nbb_cells[i].get_text() == nbb_unformatted_code) {\n",
       "                             nbb_cells[i].set_text(nbb_formatted_code);\n",
       "                        }\n",
       "                        break;\n",
       "                    }\n",
       "                }\n",
       "            }, 500);\n",
       "            "
      ],
      "text/plain": [
       "<IPython.core.display.Javascript object>"
      ]
     },
     "metadata": {},
     "output_type": "display_data"
    }
   ],
   "source": [
    "# Check for duplicates\n",
    "\n",
    "df_active_studs.duplicated().sum()"
   ]
  },
  {
   "cell_type": "code",
   "execution_count": 9,
   "metadata": {},
   "outputs": [
    {
     "name": "stdout",
     "output_type": "stream",
     "text": [
      "There are 66156 inactive users that appear either in control or test group.\n"
     ]
    },
    {
     "data": {
      "application/javascript": [
       "\n",
       "            setTimeout(function() {\n",
       "                var nbb_cell_id = 9;\n",
       "                var nbb_unformatted_code = \"df_groups_status = df_groups.merge(df_active_studs, on=\\\"id\\\", how=\\\"left\\\")\\n\\nnot_active_with_group = df_groups_status[df_groups_status[\\\"active\\\"].isnull()][\\n    \\\"id\\\"\\n].count()\\n\\nprint(\\n    f\\\"There are {not_active_with_group} inactive users that appear either in control or test group.\\\"\\n)\";\n",
       "                var nbb_formatted_code = \"df_groups_status = df_groups.merge(df_active_studs, on=\\\"id\\\", how=\\\"left\\\")\\n\\nnot_active_with_group = df_groups_status[df_groups_status[\\\"active\\\"].isnull()][\\n    \\\"id\\\"\\n].count()\\n\\nprint(\\n    f\\\"There are {not_active_with_group} inactive users that appear either in control or test group.\\\"\\n)\";\n",
       "                var nbb_cells = Jupyter.notebook.get_cells();\n",
       "                for (var i = 0; i < nbb_cells.length; ++i) {\n",
       "                    if (nbb_cells[i].input_prompt_number == nbb_cell_id) {\n",
       "                        if (nbb_cells[i].get_text() == nbb_unformatted_code) {\n",
       "                             nbb_cells[i].set_text(nbb_formatted_code);\n",
       "                        }\n",
       "                        break;\n",
       "                    }\n",
       "                }\n",
       "            }, 500);\n",
       "            "
      ],
      "text/plain": [
       "<IPython.core.display.Javascript object>"
      ]
     },
     "metadata": {},
     "output_type": "display_data"
    }
   ],
   "source": [
    "df_groups_status = df_groups.merge(df_active_studs, on=\"id\", how=\"left\")\n",
    "\n",
    "not_active_with_group = df_groups_status[df_groups_status[\"active\"].isnull()][\n",
    "    \"id\"\n",
    "].count()\n",
    "\n",
    "print(\n",
    "    f\"There are {not_active_with_group} inactive users that appear either in control or test group.\"\n",
    ")"
   ]
  },
  {
   "cell_type": "code",
   "execution_count": 10,
   "metadata": {},
   "outputs": [
    {
     "name": "stdout",
     "output_type": "stream",
     "text": [
      "There are 13 active users that do not appear in any group.\n"
     ]
    },
    {
     "data": {
      "application/javascript": [
       "\n",
       "            setTimeout(function() {\n",
       "                var nbb_cell_id = 10;\n",
       "                var nbb_unformatted_code = \"df_active_groups = df_active_studs.merge(df_groups, on=\\\"id\\\", how=\\\"left\\\")\\n\\nactive_without_group = df_active_groups[df_active_groups[\\\"grp\\\"].isnull()][\\n    \\\"active\\\"\\n].sum()\\n\\n\\nprint(f\\\"There are {active_without_group} active users that do not appear in any group.\\\")\";\n",
       "                var nbb_formatted_code = \"df_active_groups = df_active_studs.merge(df_groups, on=\\\"id\\\", how=\\\"left\\\")\\n\\nactive_without_group = df_active_groups[df_active_groups[\\\"grp\\\"].isnull()][\\n    \\\"active\\\"\\n].sum()\\n\\n\\nprint(f\\\"There are {active_without_group} active users that do not appear in any group.\\\")\";\n",
       "                var nbb_cells = Jupyter.notebook.get_cells();\n",
       "                for (var i = 0; i < nbb_cells.length; ++i) {\n",
       "                    if (nbb_cells[i].input_prompt_number == nbb_cell_id) {\n",
       "                        if (nbb_cells[i].get_text() == nbb_unformatted_code) {\n",
       "                             nbb_cells[i].set_text(nbb_formatted_code);\n",
       "                        }\n",
       "                        break;\n",
       "                    }\n",
       "                }\n",
       "            }, 500);\n",
       "            "
      ],
      "text/plain": [
       "<IPython.core.display.Javascript object>"
      ]
     },
     "metadata": {},
     "output_type": "display_data"
    }
   ],
   "source": [
    "df_active_groups = df_active_studs.merge(df_groups, on=\"id\", how=\"left\")\n",
    "\n",
    "active_without_group = df_active_groups[df_active_groups[\"grp\"].isnull()][\n",
    "    \"active\"\n",
    "].sum()\n",
    "\n",
    "\n",
    "print(f\"There are {active_without_group} active users that do not appear in any group.\")"
   ]
  },
  {
   "cell_type": "markdown",
   "metadata": {},
   "source": [
    "#### `df_checks` is a dataset with user payments during the experiment"
   ]
  },
  {
   "cell_type": "code",
   "execution_count": 11,
   "metadata": {
    "scrolled": true
   },
   "outputs": [
    {
     "name": "stdout",
     "output_type": "stream",
     "text": [
      "<class 'pandas.core.frame.DataFrame'>\n",
      "RangeIndex: 541 entries, 0 to 540\n",
      "Data columns (total 3 columns):\n",
      " #   Column  Non-Null Count  Dtype  \n",
      "---  ------  --------------  -----  \n",
      " 0   id      541 non-null    int64  \n",
      " 1   rev     541 non-null    float64\n",
      " 2   paid    541 non-null    int64  \n",
      "dtypes: float64(1), int64(2)\n",
      "memory usage: 12.8 KB\n"
     ]
    },
    {
     "data": {
      "application/javascript": [
       "\n",
       "            setTimeout(function() {\n",
       "                var nbb_cell_id = 11;\n",
       "                var nbb_unformatted_code = \"df_checks = (\\n    pd.read_csv(PATH_TO_CHECKS, sep=\\\";\\\")\\n    .rename(columns={\\\"student_id\\\": \\\"id\\\"})\\n    .assign(paid=1)\\n)\\n\\ndf_checks.info()\";\n",
       "                var nbb_formatted_code = \"df_checks = (\\n    pd.read_csv(PATH_TO_CHECKS, sep=\\\";\\\")\\n    .rename(columns={\\\"student_id\\\": \\\"id\\\"})\\n    .assign(paid=1)\\n)\\n\\ndf_checks.info()\";\n",
       "                var nbb_cells = Jupyter.notebook.get_cells();\n",
       "                for (var i = 0; i < nbb_cells.length; ++i) {\n",
       "                    if (nbb_cells[i].input_prompt_number == nbb_cell_id) {\n",
       "                        if (nbb_cells[i].get_text() == nbb_unformatted_code) {\n",
       "                             nbb_cells[i].set_text(nbb_formatted_code);\n",
       "                        }\n",
       "                        break;\n",
       "                    }\n",
       "                }\n",
       "            }, 500);\n",
       "            "
      ],
      "text/plain": [
       "<IPython.core.display.Javascript object>"
      ]
     },
     "metadata": {},
     "output_type": "display_data"
    }
   ],
   "source": [
    "df_checks = (\n",
    "    pd.read_csv(PATH_TO_CHECKS, sep=\";\")\n",
    "    .rename(columns={\"student_id\": \"id\"})\n",
    "    .assign(paid=1)\n",
    ")\n",
    "\n",
    "df_checks.info()"
   ]
  },
  {
   "cell_type": "code",
   "execution_count": 12,
   "metadata": {},
   "outputs": [
    {
     "data": {
      "text/plain": [
       "0"
      ]
     },
     "execution_count": 12,
     "metadata": {},
     "output_type": "execute_result"
    },
    {
     "data": {
      "application/javascript": [
       "\n",
       "            setTimeout(function() {\n",
       "                var nbb_cell_id = 12;\n",
       "                var nbb_unformatted_code = \"# Check for duplicates\\n\\ndf_checks.duplicated().sum()\";\n",
       "                var nbb_formatted_code = \"# Check for duplicates\\n\\ndf_checks.duplicated().sum()\";\n",
       "                var nbb_cells = Jupyter.notebook.get_cells();\n",
       "                for (var i = 0; i < nbb_cells.length; ++i) {\n",
       "                    if (nbb_cells[i].input_prompt_number == nbb_cell_id) {\n",
       "                        if (nbb_cells[i].get_text() == nbb_unformatted_code) {\n",
       "                             nbb_cells[i].set_text(nbb_formatted_code);\n",
       "                        }\n",
       "                        break;\n",
       "                    }\n",
       "                }\n",
       "            }, 500);\n",
       "            "
      ],
      "text/plain": [
       "<IPython.core.display.Javascript object>"
      ]
     },
     "metadata": {},
     "output_type": "display_data"
    }
   ],
   "source": [
    "# Check for duplicates\n",
    "\n",
    "df_checks.duplicated().sum()"
   ]
  },
  {
   "cell_type": "code",
   "execution_count": 13,
   "metadata": {},
   "outputs": [
    {
     "name": "stdout",
     "output_type": "stream",
     "text": [
      "There are 149 inactive users who have paid.\n"
     ]
    },
    {
     "data": {
      "application/javascript": [
       "\n",
       "            setTimeout(function() {\n",
       "                var nbb_cell_id = 13;\n",
       "                var nbb_unformatted_code = \"df_checks_status = df_checks.merge(df_active_studs, on=\\\"id\\\", how=\\\"left\\\")\\n\\nnot_active_with_checks = df_checks_status[df_checks_status[\\\"active\\\"].isnull()][\\n    \\\"id\\\"\\n].count()\\n\\nprint(f\\\"There are {not_active_with_checks} inactive users who have paid.\\\")\";\n",
       "                var nbb_formatted_code = \"df_checks_status = df_checks.merge(df_active_studs, on=\\\"id\\\", how=\\\"left\\\")\\n\\nnot_active_with_checks = df_checks_status[df_checks_status[\\\"active\\\"].isnull()][\\n    \\\"id\\\"\\n].count()\\n\\nprint(f\\\"There are {not_active_with_checks} inactive users who have paid.\\\")\";\n",
       "                var nbb_cells = Jupyter.notebook.get_cells();\n",
       "                for (var i = 0; i < nbb_cells.length; ++i) {\n",
       "                    if (nbb_cells[i].input_prompt_number == nbb_cell_id) {\n",
       "                        if (nbb_cells[i].get_text() == nbb_unformatted_code) {\n",
       "                             nbb_cells[i].set_text(nbb_formatted_code);\n",
       "                        }\n",
       "                        break;\n",
       "                    }\n",
       "                }\n",
       "            }, 500);\n",
       "            "
      ],
      "text/plain": [
       "<IPython.core.display.Javascript object>"
      ]
     },
     "metadata": {},
     "output_type": "display_data"
    }
   ],
   "source": [
    "df_checks_status = df_checks.merge(df_active_studs, on=\"id\", how=\"left\")\n",
    "\n",
    "not_active_with_checks = df_checks_status[df_checks_status[\"active\"].isnull()][\n",
    "    \"id\"\n",
    "].count()\n",
    "\n",
    "print(f\"There are {not_active_with_checks} inactive users who have paid.\")"
   ]
  },
  {
   "cell_type": "code",
   "execution_count": 14,
   "metadata": {},
   "outputs": [
    {
     "name": "stdout",
     "output_type": "stream",
     "text": [
      "There is 1 user, who have paid, but do not appear in any group.\n"
     ]
    },
    {
     "data": {
      "application/javascript": [
       "\n",
       "            setTimeout(function() {\n",
       "                var nbb_cell_id = 14;\n",
       "                var nbb_unformatted_code = \"df_checks_groups = df_checks.merge(df_groups, on=\\\"id\\\", how=\\\"left\\\")\\n\\nchecks_without_groups = df_checks_groups[df_checks_groups[\\\"grp\\\"].isnull()][\\\"id\\\"].count()\\n\\nprint(\\n    f\\\"There is {checks_without_groups} user, who have paid, but do not appear in any group.\\\"\\n)\";\n",
       "                var nbb_formatted_code = \"df_checks_groups = df_checks.merge(df_groups, on=\\\"id\\\", how=\\\"left\\\")\\n\\nchecks_without_groups = df_checks_groups[df_checks_groups[\\\"grp\\\"].isnull()][\\\"id\\\"].count()\\n\\nprint(\\n    f\\\"There is {checks_without_groups} user, who have paid, but do not appear in any group.\\\"\\n)\";\n",
       "                var nbb_cells = Jupyter.notebook.get_cells();\n",
       "                for (var i = 0; i < nbb_cells.length; ++i) {\n",
       "                    if (nbb_cells[i].input_prompt_number == nbb_cell_id) {\n",
       "                        if (nbb_cells[i].get_text() == nbb_unformatted_code) {\n",
       "                             nbb_cells[i].set_text(nbb_formatted_code);\n",
       "                        }\n",
       "                        break;\n",
       "                    }\n",
       "                }\n",
       "            }, 500);\n",
       "            "
      ],
      "text/plain": [
       "<IPython.core.display.Javascript object>"
      ]
     },
     "metadata": {},
     "output_type": "display_data"
    }
   ],
   "source": [
    "df_checks_groups = df_checks.merge(df_groups, on=\"id\", how=\"left\")\n",
    "\n",
    "checks_without_groups = df_checks_groups[df_checks_groups[\"grp\"].isnull()][\"id\"].count()\n",
    "\n",
    "print(\n",
    "    f\"There is {checks_without_groups} user, who have paid, but do not appear in any group.\"\n",
    ")"
   ]
  },
  {
   "cell_type": "markdown",
   "metadata": {},
   "source": [
    "####  `df_groups`&`df_active_studs`&`df_checks` "
   ]
  },
  {
   "cell_type": "code",
   "execution_count": 15,
   "metadata": {
    "scrolled": true
   },
   "outputs": [
    {
     "data": {
      "text/html": [
       "<div>\n",
       "<style scoped>\n",
       "    .dataframe tbody tr th:only-of-type {\n",
       "        vertical-align: middle;\n",
       "    }\n",
       "\n",
       "    .dataframe tbody tr th {\n",
       "        vertical-align: top;\n",
       "    }\n",
       "\n",
       "    .dataframe thead th {\n",
       "        text-align: right;\n",
       "    }\n",
       "</style>\n",
       "<table border=\"1\" class=\"dataframe\">\n",
       "  <thead>\n",
       "    <tr style=\"text-align: right;\">\n",
       "      <th></th>\n",
       "      <th>id</th>\n",
       "      <th>grp</th>\n",
       "      <th>active</th>\n",
       "      <th>rev</th>\n",
       "      <th>paid</th>\n",
       "    </tr>\n",
       "  </thead>\n",
       "  <tbody>\n",
       "    <tr>\n",
       "      <th>0</th>\n",
       "      <td>1489</td>\n",
       "      <td>B</td>\n",
       "      <td>0.0</td>\n",
       "      <td>0.0</td>\n",
       "      <td>0.0</td>\n",
       "    </tr>\n",
       "    <tr>\n",
       "      <th>1</th>\n",
       "      <td>1627</td>\n",
       "      <td>A</td>\n",
       "      <td>1.0</td>\n",
       "      <td>990.0</td>\n",
       "      <td>1.0</td>\n",
       "    </tr>\n",
       "    <tr>\n",
       "      <th>2</th>\n",
       "      <td>1768</td>\n",
       "      <td>B</td>\n",
       "      <td>0.0</td>\n",
       "      <td>0.0</td>\n",
       "      <td>0.0</td>\n",
       "    </tr>\n",
       "    <tr>\n",
       "      <th>3</th>\n",
       "      <td>1783</td>\n",
       "      <td>B</td>\n",
       "      <td>0.0</td>\n",
       "      <td>0.0</td>\n",
       "      <td>0.0</td>\n",
       "    </tr>\n",
       "    <tr>\n",
       "      <th>4</th>\n",
       "      <td>1794</td>\n",
       "      <td>A</td>\n",
       "      <td>0.0</td>\n",
       "      <td>0.0</td>\n",
       "      <td>0.0</td>\n",
       "    </tr>\n",
       "  </tbody>\n",
       "</table>\n",
       "</div>"
      ],
      "text/plain": [
       "     id grp  active    rev  paid\n",
       "0  1489   B     0.0    0.0   0.0\n",
       "1  1627   A     1.0  990.0   1.0\n",
       "2  1768   B     0.0    0.0   0.0\n",
       "3  1783   B     0.0    0.0   0.0\n",
       "4  1794   A     0.0    0.0   0.0"
      ]
     },
     "execution_count": 15,
     "metadata": {},
     "output_type": "execute_result"
    },
    {
     "data": {
      "application/javascript": [
       "\n",
       "            setTimeout(function() {\n",
       "                var nbb_cell_id = 15;\n",
       "                var nbb_unformatted_code = \"# Merge all datasets\\n\\ndf = (\\n    df_groups.merge(df_active_studs, on=\\\"id\\\", how=\\\"left\\\")\\n    .merge(df_checks, on=\\\"id\\\", how=\\\"left\\\")\\n    .fillna(0)\\n)\\ndf.head(5)\";\n",
       "                var nbb_formatted_code = \"# Merge all datasets\\n\\ndf = (\\n    df_groups.merge(df_active_studs, on=\\\"id\\\", how=\\\"left\\\")\\n    .merge(df_checks, on=\\\"id\\\", how=\\\"left\\\")\\n    .fillna(0)\\n)\\ndf.head(5)\";\n",
       "                var nbb_cells = Jupyter.notebook.get_cells();\n",
       "                for (var i = 0; i < nbb_cells.length; ++i) {\n",
       "                    if (nbb_cells[i].input_prompt_number == nbb_cell_id) {\n",
       "                        if (nbb_cells[i].get_text() == nbb_unformatted_code) {\n",
       "                             nbb_cells[i].set_text(nbb_formatted_code);\n",
       "                        }\n",
       "                        break;\n",
       "                    }\n",
       "                }\n",
       "            }, 500);\n",
       "            "
      ],
      "text/plain": [
       "<IPython.core.display.Javascript object>"
      ]
     },
     "metadata": {},
     "output_type": "display_data"
    }
   ],
   "source": [
    "# Merge all datasets\n",
    "\n",
    "df = (\n",
    "    df_groups.merge(df_active_studs, on=\"id\", how=\"left\")\n",
    "    .merge(df_checks, on=\"id\", how=\"left\")\n",
    "    .fillna(0)\n",
    ")\n",
    "df.head(5)"
   ]
  },
  {
   "cell_type": "code",
   "execution_count": 16,
   "metadata": {
    "scrolled": true
   },
   "outputs": [
    {
     "data": {
      "application/javascript": [
       "\n",
       "            setTimeout(function() {\n",
       "                var nbb_cell_id = 16;\n",
       "                var nbb_unformatted_code = \"# Delete 149 inactive users who have paid\\n\\ndf.drop(df.index[(df[\\\"paid\\\"] == 1) & (df[\\\"active\\\"] == 0)], inplace=True)\";\n",
       "                var nbb_formatted_code = \"# Delete 149 inactive users who have paid\\n\\ndf.drop(df.index[(df[\\\"paid\\\"] == 1) & (df[\\\"active\\\"] == 0)], inplace=True)\";\n",
       "                var nbb_cells = Jupyter.notebook.get_cells();\n",
       "                for (var i = 0; i < nbb_cells.length; ++i) {\n",
       "                    if (nbb_cells[i].input_prompt_number == nbb_cell_id) {\n",
       "                        if (nbb_cells[i].get_text() == nbb_unformatted_code) {\n",
       "                             nbb_cells[i].set_text(nbb_formatted_code);\n",
       "                        }\n",
       "                        break;\n",
       "                    }\n",
       "                }\n",
       "            }, 500);\n",
       "            "
      ],
      "text/plain": [
       "<IPython.core.display.Javascript object>"
      ]
     },
     "metadata": {},
     "output_type": "display_data"
    }
   ],
   "source": [
    "# Delete 149 inactive users who have paid\n",
    "\n",
    "df.drop(df.index[(df[\"paid\"] == 1) & (df[\"active\"] == 0)], inplace=True)"
   ]
  },
  {
   "cell_type": "markdown",
   "metadata": {},
   "source": [
    "#### `df_group_add` is a dataset with groups of users, that was received 2 days after the experiment has started"
   ]
  },
  {
   "cell_type": "code",
   "execution_count": 17,
   "metadata": {},
   "outputs": [
    {
     "name": "stdout",
     "output_type": "stream",
     "text": [
      "<class 'pandas.core.frame.DataFrame'>\n",
      "RangeIndex: 92 entries, 0 to 91\n",
      "Data columns (total 2 columns):\n",
      " #   Column  Non-Null Count  Dtype \n",
      "---  ------  --------------  ----- \n",
      " 0   id      92 non-null     int64 \n",
      " 1   grp     92 non-null     object\n",
      "dtypes: int64(1), object(1)\n",
      "memory usage: 1.6+ KB\n"
     ]
    },
    {
     "data": {
      "application/javascript": [
       "\n",
       "            setTimeout(function() {\n",
       "                var nbb_cell_id = 17;\n",
       "                var nbb_unformatted_code = \"df_group_add = pd.read_csv(PATH_TO_GROUP_ADD, sep=\\\",\\\")\\n\\ndf_group_add.info()\";\n",
       "                var nbb_formatted_code = \"df_group_add = pd.read_csv(PATH_TO_GROUP_ADD, sep=\\\",\\\")\\n\\ndf_group_add.info()\";\n",
       "                var nbb_cells = Jupyter.notebook.get_cells();\n",
       "                for (var i = 0; i < nbb_cells.length; ++i) {\n",
       "                    if (nbb_cells[i].input_prompt_number == nbb_cell_id) {\n",
       "                        if (nbb_cells[i].get_text() == nbb_unformatted_code) {\n",
       "                             nbb_cells[i].set_text(nbb_formatted_code);\n",
       "                        }\n",
       "                        break;\n",
       "                    }\n",
       "                }\n",
       "            }, 500);\n",
       "            "
      ],
      "text/plain": [
       "<IPython.core.display.Javascript object>"
      ]
     },
     "metadata": {},
     "output_type": "display_data"
    }
   ],
   "source": [
    "df_group_add = pd.read_csv(PATH_TO_GROUP_ADD, sep=\",\")\n",
    "\n",
    "df_group_add.info()"
   ]
  },
  {
   "cell_type": "code",
   "execution_count": 18,
   "metadata": {},
   "outputs": [
    {
     "data": {
      "text/plain": [
       "0"
      ]
     },
     "execution_count": 18,
     "metadata": {},
     "output_type": "execute_result"
    },
    {
     "data": {
      "application/javascript": [
       "\n",
       "            setTimeout(function() {\n",
       "                var nbb_cell_id = 18;\n",
       "                var nbb_unformatted_code = \"# Check for duplicates\\n\\ndf_group_add.duplicated().sum()\";\n",
       "                var nbb_formatted_code = \"# Check for duplicates\\n\\ndf_group_add.duplicated().sum()\";\n",
       "                var nbb_cells = Jupyter.notebook.get_cells();\n",
       "                for (var i = 0; i < nbb_cells.length; ++i) {\n",
       "                    if (nbb_cells[i].input_prompt_number == nbb_cell_id) {\n",
       "                        if (nbb_cells[i].get_text() == nbb_unformatted_code) {\n",
       "                             nbb_cells[i].set_text(nbb_formatted_code);\n",
       "                        }\n",
       "                        break;\n",
       "                    }\n",
       "                }\n",
       "            }, 500);\n",
       "            "
      ],
      "text/plain": [
       "<IPython.core.display.Javascript object>"
      ]
     },
     "metadata": {},
     "output_type": "display_data"
    }
   ],
   "source": [
    "# Check for duplicates\n",
    "\n",
    "df_group_add.duplicated().sum()"
   ]
  },
  {
   "cell_type": "code",
   "execution_count": 19,
   "metadata": {
    "scrolled": true
   },
   "outputs": [
    {
     "data": {
      "text/html": [
       "<div>\n",
       "<style scoped>\n",
       "    .dataframe tbody tr th:only-of-type {\n",
       "        vertical-align: middle;\n",
       "    }\n",
       "\n",
       "    .dataframe tbody tr th {\n",
       "        vertical-align: top;\n",
       "    }\n",
       "\n",
       "    .dataframe thead th {\n",
       "        text-align: right;\n",
       "    }\n",
       "</style>\n",
       "<table border=\"1\" class=\"dataframe\">\n",
       "  <thead>\n",
       "    <tr style=\"text-align: right;\">\n",
       "      <th></th>\n",
       "      <th>grp</th>\n",
       "      <th>id</th>\n",
       "    </tr>\n",
       "  </thead>\n",
       "  <tbody>\n",
       "    <tr>\n",
       "      <th>0</th>\n",
       "      <td>A</td>\n",
       "      <td>22</td>\n",
       "    </tr>\n",
       "    <tr>\n",
       "      <th>1</th>\n",
       "      <td>B</td>\n",
       "      <td>70</td>\n",
       "    </tr>\n",
       "  </tbody>\n",
       "</table>\n",
       "</div>"
      ],
      "text/plain": [
       "  grp  id\n",
       "0   A  22\n",
       "1   B  70"
      ]
     },
     "execution_count": 19,
     "metadata": {},
     "output_type": "execute_result"
    },
    {
     "data": {
      "application/javascript": [
       "\n",
       "            setTimeout(function() {\n",
       "                var nbb_cell_id = 19;\n",
       "                var nbb_unformatted_code = \"# Calculate group sizes\\n\\ndf_group_add.groupby(\\\"grp\\\", as_index=False).agg({\\\"id\\\": \\\"nunique\\\"})\";\n",
       "                var nbb_formatted_code = \"# Calculate group sizes\\n\\ndf_group_add.groupby(\\\"grp\\\", as_index=False).agg({\\\"id\\\": \\\"nunique\\\"})\";\n",
       "                var nbb_cells = Jupyter.notebook.get_cells();\n",
       "                for (var i = 0; i < nbb_cells.length; ++i) {\n",
       "                    if (nbb_cells[i].input_prompt_number == nbb_cell_id) {\n",
       "                        if (nbb_cells[i].get_text() == nbb_unformatted_code) {\n",
       "                             nbb_cells[i].set_text(nbb_formatted_code);\n",
       "                        }\n",
       "                        break;\n",
       "                    }\n",
       "                }\n",
       "            }, 500);\n",
       "            "
      ],
      "text/plain": [
       "<IPython.core.display.Javascript object>"
      ]
     },
     "metadata": {},
     "output_type": "display_data"
    }
   ],
   "source": [
    "# Calculate group sizes\n",
    "\n",
    "df_group_add.groupby(\"grp\", as_index=False).agg({\"id\": \"nunique\"})"
   ]
  },
  {
   "cell_type": "code",
   "execution_count": 20,
   "metadata": {},
   "outputs": [
    {
     "data": {
      "text/html": [
       "<div>\n",
       "<style scoped>\n",
       "    .dataframe tbody tr th:only-of-type {\n",
       "        vertical-align: middle;\n",
       "    }\n",
       "\n",
       "    .dataframe tbody tr th {\n",
       "        vertical-align: top;\n",
       "    }\n",
       "\n",
       "    .dataframe thead th {\n",
       "        text-align: right;\n",
       "    }\n",
       "</style>\n",
       "<table border=\"1\" class=\"dataframe\">\n",
       "  <thead>\n",
       "    <tr style=\"text-align: right;\">\n",
       "      <th></th>\n",
       "      <th>grp</th>\n",
       "      <th>active</th>\n",
       "      <th>paid</th>\n",
       "    </tr>\n",
       "  </thead>\n",
       "  <tbody>\n",
       "    <tr>\n",
       "      <th>0</th>\n",
       "      <td>A</td>\n",
       "      <td>3.0</td>\n",
       "      <td>0.0</td>\n",
       "    </tr>\n",
       "    <tr>\n",
       "      <th>1</th>\n",
       "      <td>B</td>\n",
       "      <td>10.0</td>\n",
       "      <td>1.0</td>\n",
       "    </tr>\n",
       "  </tbody>\n",
       "</table>\n",
       "</div>"
      ],
      "text/plain": [
       "  grp  active  paid\n",
       "0   A     3.0   0.0\n",
       "1   B    10.0   1.0"
      ]
     },
     "execution_count": 20,
     "metadata": {},
     "output_type": "execute_result"
    },
    {
     "data": {
      "application/javascript": [
       "\n",
       "            setTimeout(function() {\n",
       "                var nbb_cell_id = 20;\n",
       "                var nbb_unformatted_code = \"# Merge with other datasets\\n\\ndf_group_add.merge(df_active_studs, on=\\\"id\\\", how=\\\"left\\\").merge(\\n    df_checks, on=\\\"id\\\", how=\\\"left\\\"\\n).fillna(0).groupby(\\\"grp\\\", as_index=False).agg({\\\"active\\\": \\\"sum\\\", \\\"paid\\\": \\\"sum\\\"})\";\n",
       "                var nbb_formatted_code = \"# Merge with other datasets\\n\\ndf_group_add.merge(df_active_studs, on=\\\"id\\\", how=\\\"left\\\").merge(\\n    df_checks, on=\\\"id\\\", how=\\\"left\\\"\\n).fillna(0).groupby(\\\"grp\\\", as_index=False).agg({\\\"active\\\": \\\"sum\\\", \\\"paid\\\": \\\"sum\\\"})\";\n",
       "                var nbb_cells = Jupyter.notebook.get_cells();\n",
       "                for (var i = 0; i < nbb_cells.length; ++i) {\n",
       "                    if (nbb_cells[i].input_prompt_number == nbb_cell_id) {\n",
       "                        if (nbb_cells[i].get_text() == nbb_unformatted_code) {\n",
       "                             nbb_cells[i].set_text(nbb_formatted_code);\n",
       "                        }\n",
       "                        break;\n",
       "                    }\n",
       "                }\n",
       "            }, 500);\n",
       "            "
      ],
      "text/plain": [
       "<IPython.core.display.Javascript object>"
      ]
     },
     "metadata": {},
     "output_type": "display_data"
    }
   ],
   "source": [
    "# Merge with other datasets\n",
    "\n",
    "df_group_add.merge(df_active_studs, on=\"id\", how=\"left\").merge(\n",
    "    df_checks, on=\"id\", how=\"left\"\n",
    ").fillna(0).groupby(\"grp\", as_index=False).agg({\"active\": \"sum\", \"paid\": \"sum\"})"
   ]
  },
  {
   "cell_type": "markdown",
   "metadata": {},
   "source": [
    "**Main outcomes:**\n",
    "- there are 4 times more users in test group than in control\n",
    "- there are 66156 inactive users, who appear either in control or test group\n",
    "- there are 13 active users, who do not appear in any group\n",
    "- there is 1 user, who have paid, but do not appear in any group\n",
    "- there are 149 inactive users, who have paid (could be an auto payment) - as these users were not able to test new payment method, they won't participate in further analysis"
   ]
  },
  {
   "cell_type": "markdown",
   "metadata": {},
   "source": [
    "## Analysis"
   ]
  },
  {
   "cell_type": "markdown",
   "metadata": {},
   "source": [
    "### 1. Evaluating experiment results"
   ]
  },
  {
   "cell_type": "markdown",
   "metadata": {},
   "source": [
    "To have a deeper understanding of experiment results I will calculate the following **metrics**:\n",
    "- `ARPU` (Average Revenue Per User) = Total Revenue / Total number of Users\n",
    "- `ARPPU` (Average Revenue Per Paying User) = Total Revenue / Total number of Paying Users\n",
    "- `CR` (Conversion Rate) = Total number of Paying Users / Total number of Users"
   ]
  },
  {
   "cell_type": "markdown",
   "metadata": {},
   "source": [
    "#### 1.1 Calculating Metrics (ARPU, ARPPU, CR)"
   ]
  },
  {
   "cell_type": "code",
   "execution_count": 21,
   "metadata": {},
   "outputs": [
    {
     "data": {
      "text/html": [
       "<div>\n",
       "<style scoped>\n",
       "    .dataframe tbody tr th:only-of-type {\n",
       "        vertical-align: middle;\n",
       "    }\n",
       "\n",
       "    .dataframe tbody tr th {\n",
       "        vertical-align: top;\n",
       "    }\n",
       "\n",
       "    .dataframe thead th {\n",
       "        text-align: right;\n",
       "    }\n",
       "</style>\n",
       "<table border=\"1\" class=\"dataframe\">\n",
       "  <thead>\n",
       "    <tr style=\"text-align: right;\">\n",
       "      <th></th>\n",
       "      <th>grp</th>\n",
       "      <th>rev</th>\n",
       "      <th>users</th>\n",
       "      <th>ARPU</th>\n",
       "    </tr>\n",
       "  </thead>\n",
       "  <tbody>\n",
       "    <tr>\n",
       "      <th>0</th>\n",
       "      <td>A</td>\n",
       "      <td>72820.0000</td>\n",
       "      <td>14642</td>\n",
       "      <td>4.97</td>\n",
       "    </tr>\n",
       "    <tr>\n",
       "      <th>1</th>\n",
       "      <td>B</td>\n",
       "      <td>393074.0035</td>\n",
       "      <td>59693</td>\n",
       "      <td>6.58</td>\n",
       "    </tr>\n",
       "  </tbody>\n",
       "</table>\n",
       "</div>"
      ],
      "text/plain": [
       "  grp          rev  users  ARPU\n",
       "0   A   72820.0000  14642  4.97\n",
       "1   B  393074.0035  59693  6.58"
      ]
     },
     "execution_count": 21,
     "metadata": {},
     "output_type": "execute_result"
    },
    {
     "data": {
      "application/javascript": [
       "\n",
       "            setTimeout(function() {\n",
       "                var nbb_cell_id = 21;\n",
       "                var nbb_unformatted_code = \"df_arpu = (\\n    df.groupby(\\\"grp\\\", as_index=False)\\n    .agg({\\\"rev\\\": \\\"sum\\\", \\\"id\\\": \\\"count\\\"})\\n    .rename(columns={\\\"id\\\": \\\"users\\\"})\\n)\\n\\ndf_arpu[\\\"ARPU\\\"] = round(df_arpu[\\\"rev\\\"] / df_arpu[\\\"users\\\"], 2)\\n\\ndf_arpu\";\n",
       "                var nbb_formatted_code = \"df_arpu = (\\n    df.groupby(\\\"grp\\\", as_index=False)\\n    .agg({\\\"rev\\\": \\\"sum\\\", \\\"id\\\": \\\"count\\\"})\\n    .rename(columns={\\\"id\\\": \\\"users\\\"})\\n)\\n\\ndf_arpu[\\\"ARPU\\\"] = round(df_arpu[\\\"rev\\\"] / df_arpu[\\\"users\\\"], 2)\\n\\ndf_arpu\";\n",
       "                var nbb_cells = Jupyter.notebook.get_cells();\n",
       "                for (var i = 0; i < nbb_cells.length; ++i) {\n",
       "                    if (nbb_cells[i].input_prompt_number == nbb_cell_id) {\n",
       "                        if (nbb_cells[i].get_text() == nbb_unformatted_code) {\n",
       "                             nbb_cells[i].set_text(nbb_formatted_code);\n",
       "                        }\n",
       "                        break;\n",
       "                    }\n",
       "                }\n",
       "            }, 500);\n",
       "            "
      ],
      "text/plain": [
       "<IPython.core.display.Javascript object>"
      ]
     },
     "metadata": {},
     "output_type": "display_data"
    }
   ],
   "source": [
    "df_arpu = (\n",
    "    df.groupby(\"grp\", as_index=False)\n",
    "    .agg({\"rev\": \"sum\", \"id\": \"count\"})\n",
    "    .rename(columns={\"id\": \"users\"})\n",
    ")\n",
    "\n",
    "df_arpu[\"ARPU\"] = round(df_arpu[\"rev\"] / df_arpu[\"users\"], 2)\n",
    "\n",
    "df_arpu"
   ]
  },
  {
   "cell_type": "code",
   "execution_count": 22,
   "metadata": {},
   "outputs": [
    {
     "data": {
      "text/html": [
       "<div>\n",
       "<style scoped>\n",
       "    .dataframe tbody tr th:only-of-type {\n",
       "        vertical-align: middle;\n",
       "    }\n",
       "\n",
       "    .dataframe tbody tr th {\n",
       "        vertical-align: top;\n",
       "    }\n",
       "\n",
       "    .dataframe thead th {\n",
       "        text-align: right;\n",
       "    }\n",
       "</style>\n",
       "<table border=\"1\" class=\"dataframe\">\n",
       "  <thead>\n",
       "    <tr style=\"text-align: right;\">\n",
       "      <th></th>\n",
       "      <th>grp</th>\n",
       "      <th>rev</th>\n",
       "      <th>paid_users</th>\n",
       "      <th>ARPPU</th>\n",
       "    </tr>\n",
       "  </thead>\n",
       "  <tbody>\n",
       "    <tr>\n",
       "      <th>0</th>\n",
       "      <td>A</td>\n",
       "      <td>72820.0000</td>\n",
       "      <td>78.0</td>\n",
       "      <td>933.59</td>\n",
       "    </tr>\n",
       "    <tr>\n",
       "      <th>1</th>\n",
       "      <td>B</td>\n",
       "      <td>393074.0035</td>\n",
       "      <td>313.0</td>\n",
       "      <td>1255.83</td>\n",
       "    </tr>\n",
       "  </tbody>\n",
       "</table>\n",
       "</div>"
      ],
      "text/plain": [
       "  grp          rev  paid_users    ARPPU\n",
       "0   A   72820.0000        78.0   933.59\n",
       "1   B  393074.0035       313.0  1255.83"
      ]
     },
     "execution_count": 22,
     "metadata": {},
     "output_type": "execute_result"
    },
    {
     "data": {
      "application/javascript": [
       "\n",
       "            setTimeout(function() {\n",
       "                var nbb_cell_id = 22;\n",
       "                var nbb_unformatted_code = \"df_arppu = (\\n    df.query(\\\"rev > 0\\\")\\n    .groupby(\\\"grp\\\", as_index=False)\\n    .agg({\\\"rev\\\": \\\"sum\\\", \\\"paid\\\": \\\"sum\\\"})\\n    .rename(columns={\\\"paid\\\": \\\"paid_users\\\"})\\n)\\n\\ndf_arppu[\\\"ARPPU\\\"] = round(df_arppu[\\\"rev\\\"] / df_arppu[\\\"paid_users\\\"], 2)\\n\\ndf_arppu\";\n",
       "                var nbb_formatted_code = \"df_arppu = (\\n    df.query(\\\"rev > 0\\\")\\n    .groupby(\\\"grp\\\", as_index=False)\\n    .agg({\\\"rev\\\": \\\"sum\\\", \\\"paid\\\": \\\"sum\\\"})\\n    .rename(columns={\\\"paid\\\": \\\"paid_users\\\"})\\n)\\n\\ndf_arppu[\\\"ARPPU\\\"] = round(df_arppu[\\\"rev\\\"] / df_arppu[\\\"paid_users\\\"], 2)\\n\\ndf_arppu\";\n",
       "                var nbb_cells = Jupyter.notebook.get_cells();\n",
       "                for (var i = 0; i < nbb_cells.length; ++i) {\n",
       "                    if (nbb_cells[i].input_prompt_number == nbb_cell_id) {\n",
       "                        if (nbb_cells[i].get_text() == nbb_unformatted_code) {\n",
       "                             nbb_cells[i].set_text(nbb_formatted_code);\n",
       "                        }\n",
       "                        break;\n",
       "                    }\n",
       "                }\n",
       "            }, 500);\n",
       "            "
      ],
      "text/plain": [
       "<IPython.core.display.Javascript object>"
      ]
     },
     "metadata": {},
     "output_type": "display_data"
    }
   ],
   "source": [
    "df_arppu = (\n",
    "    df.query(\"rev > 0\")\n",
    "    .groupby(\"grp\", as_index=False)\n",
    "    .agg({\"rev\": \"sum\", \"paid\": \"sum\"})\n",
    "    .rename(columns={\"paid\": \"paid_users\"})\n",
    ")\n",
    "\n",
    "df_arppu[\"ARPPU\"] = round(df_arppu[\"rev\"] / df_arppu[\"paid_users\"], 2)\n",
    "\n",
    "df_arppu"
   ]
  },
  {
   "cell_type": "code",
   "execution_count": 23,
   "metadata": {},
   "outputs": [
    {
     "data": {
      "text/html": [
       "<div>\n",
       "<style scoped>\n",
       "    .dataframe tbody tr th:only-of-type {\n",
       "        vertical-align: middle;\n",
       "    }\n",
       "\n",
       "    .dataframe tbody tr th {\n",
       "        vertical-align: top;\n",
       "    }\n",
       "\n",
       "    .dataframe thead th {\n",
       "        text-align: right;\n",
       "    }\n",
       "</style>\n",
       "<table border=\"1\" class=\"dataframe\">\n",
       "  <thead>\n",
       "    <tr style=\"text-align: right;\">\n",
       "      <th></th>\n",
       "      <th>grp</th>\n",
       "      <th>all_users</th>\n",
       "      <th>paid_users</th>\n",
       "      <th>CR</th>\n",
       "    </tr>\n",
       "  </thead>\n",
       "  <tbody>\n",
       "    <tr>\n",
       "      <th>0</th>\n",
       "      <td>A</td>\n",
       "      <td>14642</td>\n",
       "      <td>78.0</td>\n",
       "      <td>0.53</td>\n",
       "    </tr>\n",
       "    <tr>\n",
       "      <th>1</th>\n",
       "      <td>B</td>\n",
       "      <td>59693</td>\n",
       "      <td>313.0</td>\n",
       "      <td>0.52</td>\n",
       "    </tr>\n",
       "  </tbody>\n",
       "</table>\n",
       "</div>"
      ],
      "text/plain": [
       "  grp  all_users  paid_users    CR\n",
       "0   A      14642        78.0  0.53\n",
       "1   B      59693       313.0  0.52"
      ]
     },
     "execution_count": 23,
     "metadata": {},
     "output_type": "execute_result"
    },
    {
     "data": {
      "application/javascript": [
       "\n",
       "            setTimeout(function() {\n",
       "                var nbb_cell_id = 23;\n",
       "                var nbb_unformatted_code = \"df_cr = (\\n    df.groupby(\\\"grp\\\", as_index=False)\\n    .agg({\\\"id\\\": \\\"count\\\", \\\"paid\\\": \\\"sum\\\"})\\n    .rename(columns={\\\"id\\\": \\\"all_users\\\", \\\"paid\\\": \\\"paid_users\\\"})\\n)\\n\\ndf_cr[\\\"CR\\\"] = round(df_cr[\\\"paid_users\\\"] / df_cr[\\\"all_users\\\"] * 100, 2)\\n\\ndf_cr\";\n",
       "                var nbb_formatted_code = \"df_cr = (\\n    df.groupby(\\\"grp\\\", as_index=False)\\n    .agg({\\\"id\\\": \\\"count\\\", \\\"paid\\\": \\\"sum\\\"})\\n    .rename(columns={\\\"id\\\": \\\"all_users\\\", \\\"paid\\\": \\\"paid_users\\\"})\\n)\\n\\ndf_cr[\\\"CR\\\"] = round(df_cr[\\\"paid_users\\\"] / df_cr[\\\"all_users\\\"] * 100, 2)\\n\\ndf_cr\";\n",
       "                var nbb_cells = Jupyter.notebook.get_cells();\n",
       "                for (var i = 0; i < nbb_cells.length; ++i) {\n",
       "                    if (nbb_cells[i].input_prompt_number == nbb_cell_id) {\n",
       "                        if (nbb_cells[i].get_text() == nbb_unformatted_code) {\n",
       "                             nbb_cells[i].set_text(nbb_formatted_code);\n",
       "                        }\n",
       "                        break;\n",
       "                    }\n",
       "                }\n",
       "            }, 500);\n",
       "            "
      ],
      "text/plain": [
       "<IPython.core.display.Javascript object>"
      ]
     },
     "metadata": {},
     "output_type": "display_data"
    }
   ],
   "source": [
    "df_cr = (\n",
    "    df.groupby(\"grp\", as_index=False)\n",
    "    .agg({\"id\": \"count\", \"paid\": \"sum\"})\n",
    "    .rename(columns={\"id\": \"all_users\", \"paid\": \"paid_users\"})\n",
    ")\n",
    "\n",
    "df_cr[\"CR\"] = round(df_cr[\"paid_users\"] / df_cr[\"all_users\"] * 100, 2)\n",
    "\n",
    "df_cr"
   ]
  },
  {
   "cell_type": "code",
   "execution_count": 24,
   "metadata": {
    "scrolled": false
   },
   "outputs": [
    {
     "data": {
      "text/html": [
       "<div>\n",
       "<style scoped>\n",
       "    .dataframe tbody tr th:only-of-type {\n",
       "        vertical-align: middle;\n",
       "    }\n",
       "\n",
       "    .dataframe tbody tr th {\n",
       "        vertical-align: top;\n",
       "    }\n",
       "\n",
       "    .dataframe thead th {\n",
       "        text-align: right;\n",
       "    }\n",
       "</style>\n",
       "<table border=\"1\" class=\"dataframe\">\n",
       "  <thead>\n",
       "    <tr style=\"text-align: right;\">\n",
       "      <th></th>\n",
       "      <th>grp</th>\n",
       "      <th>ARPU</th>\n",
       "      <th>ARPPU</th>\n",
       "      <th>CR</th>\n",
       "    </tr>\n",
       "  </thead>\n",
       "  <tbody>\n",
       "    <tr>\n",
       "      <th>0</th>\n",
       "      <td>A</td>\n",
       "      <td>4.97</td>\n",
       "      <td>933.59</td>\n",
       "      <td>0.53</td>\n",
       "    </tr>\n",
       "    <tr>\n",
       "      <th>1</th>\n",
       "      <td>B</td>\n",
       "      <td>6.58</td>\n",
       "      <td>1255.83</td>\n",
       "      <td>0.52</td>\n",
       "    </tr>\n",
       "  </tbody>\n",
       "</table>\n",
       "</div>"
      ],
      "text/plain": [
       "  grp  ARPU    ARPPU    CR\n",
       "0   A  4.97   933.59  0.53\n",
       "1   B  6.58  1255.83  0.52"
      ]
     },
     "execution_count": 24,
     "metadata": {},
     "output_type": "execute_result"
    },
    {
     "data": {
      "application/javascript": [
       "\n",
       "            setTimeout(function() {\n",
       "                var nbb_cell_id = 24;\n",
       "                var nbb_unformatted_code = \"df_metrics = pd.concat(\\n    [df_arpu[[\\\"grp\\\", \\\"ARPU\\\"]], df_arppu[\\\"ARPPU\\\"], df_cr[\\\"CR\\\"]], axis=1\\n)\\ndf_metrics\";\n",
       "                var nbb_formatted_code = \"df_metrics = pd.concat(\\n    [df_arpu[[\\\"grp\\\", \\\"ARPU\\\"]], df_arppu[\\\"ARPPU\\\"], df_cr[\\\"CR\\\"]], axis=1\\n)\\ndf_metrics\";\n",
       "                var nbb_cells = Jupyter.notebook.get_cells();\n",
       "                for (var i = 0; i < nbb_cells.length; ++i) {\n",
       "                    if (nbb_cells[i].input_prompt_number == nbb_cell_id) {\n",
       "                        if (nbb_cells[i].get_text() == nbb_unformatted_code) {\n",
       "                             nbb_cells[i].set_text(nbb_formatted_code);\n",
       "                        }\n",
       "                        break;\n",
       "                    }\n",
       "                }\n",
       "            }, 500);\n",
       "            "
      ],
      "text/plain": [
       "<IPython.core.display.Javascript object>"
      ]
     },
     "metadata": {},
     "output_type": "display_data"
    }
   ],
   "source": [
    "df_metrics = pd.concat(\n",
    "    [df_arpu[[\"grp\", \"ARPU\"]], df_arppu[\"ARPPU\"], df_cr[\"CR\"]], axis=1\n",
    ")\n",
    "df_metrics"
   ]
  },
  {
   "cell_type": "markdown",
   "metadata": {},
   "source": [
    "Analysing the table above it is evident, that ARPU and ARPPU have increased, while CR on the contrary have decreased. \n",
    "\n",
    "As far as datasets do not have information about number of transactions made by user, then in this case ARPPU is the same as an Average Check. \n",
    "\n",
    "Knowing that ARPU = ARPPU * CR I can assume, that either the average price of learning has increased or some promotional activities took place, which led to the decrease of CR and increase of ARPPU and ARPU accordingly."
   ]
  },
  {
   "cell_type": "markdown",
   "metadata": {},
   "source": [
    "#### 1.2 A/B test"
   ]
  },
  {
   "cell_type": "markdown",
   "metadata": {},
   "source": [
    "Now it's time to check whether the differences found are statistically significant.\n",
    "\n",
    "First, let's have a look at checks distribution."
   ]
  },
  {
   "cell_type": "code",
   "execution_count": 25,
   "metadata": {
    "scrolled": true
   },
   "outputs": [
    {
     "data": {
      "text/plain": [
       "<AxesSubplot:xlabel='rev', ylabel='Count'>"
      ]
     },
     "execution_count": 25,
     "metadata": {},
     "output_type": "execute_result"
    },
    {
     "data": {
      "image/png": "[encoded data removed]",
      "text/plain": [
       "<Figure size 700x300 with 1 Axes>"
      ]
     },
     "metadata": {},
     "output_type": "display_data"
    },
    {
     "data": {
      "application/javascript": [
       "\n",
       "            setTimeout(function() {\n",
       "                var nbb_cell_id = 25;\n",
       "                var nbb_unformatted_code = \"sns.set_theme()\\n\\nfig, axs = plt.subplots(figsize=(7, 3))\\n\\nsns.histplot(data=df[df[\\\"rev\\\"] > 0], x=\\\"rev\\\", hue=\\\"grp\\\")\";\n",
       "                var nbb_formatted_code = \"sns.set_theme()\\n\\nfig, axs = plt.subplots(figsize=(7, 3))\\n\\nsns.histplot(data=df[df[\\\"rev\\\"] > 0], x=\\\"rev\\\", hue=\\\"grp\\\")\";\n",
       "                var nbb_cells = Jupyter.notebook.get_cells();\n",
       "                for (var i = 0; i < nbb_cells.length; ++i) {\n",
       "                    if (nbb_cells[i].input_prompt_number == nbb_cell_id) {\n",
       "                        if (nbb_cells[i].get_text() == nbb_unformatted_code) {\n",
       "                             nbb_cells[i].set_text(nbb_formatted_code);\n",
       "                        }\n",
       "                        break;\n",
       "                    }\n",
       "                }\n",
       "            }, 500);\n",
       "            "
      ],
      "text/plain": [
       "<IPython.core.display.Javascript object>"
      ]
     },
     "metadata": {},
     "output_type": "display_data"
    }
   ],
   "source": [
    "sns.set_theme()\n",
    "\n",
    "fig, axs = plt.subplots(figsize=(7, 3))\n",
    "\n",
    "sns.histplot(data=df[df[\"rev\"] > 0], x=\"rev\", hue=\"grp\")"
   ]
  },
  {
   "cell_type": "markdown",
   "metadata": {},
   "source": [
    "From the plot above it's obvious, that distribution is not normal. Moreover, there is a huge increase in number of checks around 2000 RUB, the majority of which is in test group."
   ]
  },
  {
   "cell_type": "markdown",
   "metadata": {},
   "source": [
    "To test **ARPU** and **ARPPU** I will first check whether:\n",
    "- metrics are homoscedastic and \n",
    "- statistic is normally distributed (using **bootstrap**). \n",
    "\n",
    "In case both criteria are met I'll use **t-test**.\n",
    "\n",
    "**$H_0$** means that new payment method did not influence ARPU and ARPPU significantly different than the old one."
   ]
  },
  {
   "cell_type": "code",
   "execution_count": 26,
   "metadata": {},
   "outputs": [
    {
     "data": {
      "application/javascript": [
       "\n",
       "            setTimeout(function() {\n",
       "                var nbb_cell_id = 26;\n",
       "                var nbb_unformatted_code = \"# Set confidence level\\n\\nconf = 0.95\\nalpha = 1 - conf\";\n",
       "                var nbb_formatted_code = \"# Set confidence level\\n\\nconf = 0.95\\nalpha = 1 - conf\";\n",
       "                var nbb_cells = Jupyter.notebook.get_cells();\n",
       "                for (var i = 0; i < nbb_cells.length; ++i) {\n",
       "                    if (nbb_cells[i].input_prompt_number == nbb_cell_id) {\n",
       "                        if (nbb_cells[i].get_text() == nbb_unformatted_code) {\n",
       "                             nbb_cells[i].set_text(nbb_formatted_code);\n",
       "                        }\n",
       "                        break;\n",
       "                    }\n",
       "                }\n",
       "            }, 500);\n",
       "            "
      ],
      "text/plain": [
       "<IPython.core.display.Javascript object>"
      ]
     },
     "metadata": {},
     "output_type": "display_data"
    }
   ],
   "source": [
    "# Set confidence level\n",
    "\n",
    "conf = 0.95\n",
    "alpha = 1 - conf"
   ]
  },
  {
   "cell_type": "code",
   "execution_count": 27,
   "metadata": {},
   "outputs": [
    {
     "data": {
      "application/javascript": [
       "\n",
       "            setTimeout(function() {\n",
       "                var nbb_cell_id = 27;\n",
       "                var nbb_unformatted_code = \"# Create bootstrap function\\n\\n\\ndef get_bootstrap(\\n    data_column_1,\\n    data_column_2,\\n    boot_it=1000,\\n    statistic=np.mean,\\n    bootstrap_conf_level=conf,\\n):\\n    boot_len = max([len(data_column_1), len(data_column_2)])\\n    boot_data = []\\n    for i in tqdm(range(boot_it)):\\n        samples_1 = data_column_1.sample(boot_len, replace=True).values\\n\\n        samples_2 = data_column_2.sample(boot_len, replace=True).values\\n\\n        boot_data.append(statistic(samples_1 - samples_2))\\n\\n    pd_boot_data = pd.DataFrame(boot_data)\\n\\n    left_quant = (1 - bootstrap_conf_level) / 2\\n    right_quant = 1 - (1 - bootstrap_conf_level) / 2\\n    ci = pd_boot_data.quantile([left_quant, right_quant])\\n\\n    p_1 = norm.cdf(x=0, loc=np.mean(boot_data), scale=np.std(boot_data))\\n    p_2 = norm.cdf(x=0, loc=-np.mean(boot_data), scale=np.std(boot_data))\\n    p_value = min(p_1, p_2) * 2\\n\\n    # Visualization\\n\\n    plt.hist(pd_boot_data[0], bins=50)\\n\\n    plt.style.use(\\\"ggplot\\\")\\n    plt.vlines(ci, ymin=0, ymax=50, linestyle=\\\"--\\\")\\n    plt.xlabel(\\\"boot_data\\\")\\n    plt.ylabel(\\\"frequency\\\")\\n    plt.title(\\\"Histogram of boot_data\\\")\\n    plt.show()\\n\\n    return {\\\"boot_data\\\": boot_data, \\\"ci\\\": ci, \\\"p_value\\\": p_value}\";\n",
       "                var nbb_formatted_code = \"# Create bootstrap function\\n\\n\\ndef get_bootstrap(\\n    data_column_1,\\n    data_column_2,\\n    boot_it=1000,\\n    statistic=np.mean,\\n    bootstrap_conf_level=conf,\\n):\\n    boot_len = max([len(data_column_1), len(data_column_2)])\\n    boot_data = []\\n    for i in tqdm(range(boot_it)):\\n        samples_1 = data_column_1.sample(boot_len, replace=True).values\\n\\n        samples_2 = data_column_2.sample(boot_len, replace=True).values\\n\\n        boot_data.append(statistic(samples_1 - samples_2))\\n\\n    pd_boot_data = pd.DataFrame(boot_data)\\n\\n    left_quant = (1 - bootstrap_conf_level) / 2\\n    right_quant = 1 - (1 - bootstrap_conf_level) / 2\\n    ci = pd_boot_data.quantile([left_quant, right_quant])\\n\\n    p_1 = norm.cdf(x=0, loc=np.mean(boot_data), scale=np.std(boot_data))\\n    p_2 = norm.cdf(x=0, loc=-np.mean(boot_data), scale=np.std(boot_data))\\n    p_value = min(p_1, p_2) * 2\\n\\n    # Visualization\\n\\n    plt.hist(pd_boot_data[0], bins=50)\\n\\n    plt.style.use(\\\"ggplot\\\")\\n    plt.vlines(ci, ymin=0, ymax=50, linestyle=\\\"--\\\")\\n    plt.xlabel(\\\"boot_data\\\")\\n    plt.ylabel(\\\"frequency\\\")\\n    plt.title(\\\"Histogram of boot_data\\\")\\n    plt.show()\\n\\n    return {\\\"boot_data\\\": boot_data, \\\"ci\\\": ci, \\\"p_value\\\": p_value}\";\n",
       "                var nbb_cells = Jupyter.notebook.get_cells();\n",
       "                for (var i = 0; i < nbb_cells.length; ++i) {\n",
       "                    if (nbb_cells[i].input_prompt_number == nbb_cell_id) {\n",
       "                        if (nbb_cells[i].get_text() == nbb_unformatted_code) {\n",
       "                             nbb_cells[i].set_text(nbb_formatted_code);\n",
       "                        }\n",
       "                        break;\n",
       "                    }\n",
       "                }\n",
       "            }, 500);\n",
       "            "
      ],
      "text/plain": [
       "<IPython.core.display.Javascript object>"
      ]
     },
     "metadata": {},
     "output_type": "display_data"
    }
   ],
   "source": [
    "# Create bootstrap function\n",
    "\n",
    "\n",
    "def get_bootstrap(\n",
    "    data_column_1,\n",
    "    data_column_2,\n",
    "    boot_it=1000,\n",
    "    statistic=np.mean,\n",
    "    bootstrap_conf_level=conf,\n",
    "):\n",
    "    boot_len = max([len(data_column_1), len(data_column_2)])\n",
    "    boot_data = []\n",
    "    for i in tqdm(range(boot_it)):\n",
    "        samples_1 = data_column_1.sample(boot_len, replace=True).values\n",
    "\n",
    "        samples_2 = data_column_2.sample(boot_len, replace=True).values\n",
    "\n",
    "        boot_data.append(statistic(samples_1 - samples_2))\n",
    "\n",
    "    pd_boot_data = pd.DataFrame(boot_data)\n",
    "\n",
    "    left_quant = (1 - bootstrap_conf_level) / 2\n",
    "    right_quant = 1 - (1 - bootstrap_conf_level) / 2\n",
    "    ci = pd_boot_data.quantile([left_quant, right_quant])\n",
    "\n",
    "    p_1 = norm.cdf(x=0, loc=np.mean(boot_data), scale=np.std(boot_data))\n",
    "    p_2 = norm.cdf(x=0, loc=-np.mean(boot_data), scale=np.std(boot_data))\n",
    "    p_value = min(p_1, p_2) * 2\n",
    "\n",
    "    # Visualization\n",
    "\n",
    "    plt.hist(pd_boot_data[0], bins=50)\n",
    "\n",
    "    plt.style.use(\"ggplot\")\n",
    "    plt.vlines(ci, ymin=0, ymax=50, linestyle=\"--\")\n",
    "    plt.xlabel(\"boot_data\")\n",
    "    plt.ylabel(\"frequency\")\n",
    "    plt.title(\"Histogram of boot_data\")\n",
    "    plt.show()\n",
    "\n",
    "    return {\"boot_data\": boot_data, \"ci\": ci, \"p_value\": p_value}"
   ]
  },
  {
   "cell_type": "markdown",
   "metadata": {},
   "source": [
    "#### ARPU A/B test"
   ]
  },
  {
   "cell_type": "code",
   "execution_count": 28,
   "metadata": {},
   "outputs": [
    {
     "data": {
      "application/javascript": [
       "\n",
       "            setTimeout(function() {\n",
       "                var nbb_cell_id = 28;\n",
       "                var nbb_unformatted_code = \"arpu_experiment = df\\narpu_control = df[df[\\\"grp\\\"] == \\\"A\\\"][\\\"rev\\\"]\\narpu_test = df[df[\\\"grp\\\"] == \\\"B\\\"][\\\"rev\\\"]\";\n",
       "                var nbb_formatted_code = \"arpu_experiment = df\\narpu_control = df[df[\\\"grp\\\"] == \\\"A\\\"][\\\"rev\\\"]\\narpu_test = df[df[\\\"grp\\\"] == \\\"B\\\"][\\\"rev\\\"]\";\n",
       "                var nbb_cells = Jupyter.notebook.get_cells();\n",
       "                for (var i = 0; i < nbb_cells.length; ++i) {\n",
       "                    if (nbb_cells[i].input_prompt_number == nbb_cell_id) {\n",
       "                        if (nbb_cells[i].get_text() == nbb_unformatted_code) {\n",
       "                             nbb_cells[i].set_text(nbb_formatted_code);\n",
       "                        }\n",
       "                        break;\n",
       "                    }\n",
       "                }\n",
       "            }, 500);\n",
       "            "
      ],
      "text/plain": [
       "<IPython.core.display.Javascript object>"
      ]
     },
     "metadata": {},
     "output_type": "display_data"
    }
   ],
   "source": [
    "arpu_experiment = df\n",
    "arpu_control = df[df[\"grp\"] == \"A\"][\"rev\"]\n",
    "arpu_test = df[df[\"grp\"] == \"B\"][\"rev\"]"
   ]
  },
  {
   "cell_type": "code",
   "execution_count": 29,
   "metadata": {},
   "outputs": [
    {
     "data": {
      "text/html": [
       "<div>\n",
       "<style scoped>\n",
       "    .dataframe tbody tr th:only-of-type {\n",
       "        vertical-align: middle;\n",
       "    }\n",
       "\n",
       "    .dataframe tbody tr th {\n",
       "        vertical-align: top;\n",
       "    }\n",
       "\n",
       "    .dataframe thead th {\n",
       "        text-align: right;\n",
       "    }\n",
       "</style>\n",
       "<table border=\"1\" class=\"dataframe\">\n",
       "  <thead>\n",
       "    <tr style=\"text-align: right;\">\n",
       "      <th></th>\n",
       "      <th>W</th>\n",
       "      <th>pval</th>\n",
       "      <th>equal_var</th>\n",
       "    </tr>\n",
       "  </thead>\n",
       "  <tbody>\n",
       "    <tr>\n",
       "      <th>levene</th>\n",
       "      <td>2.770914</td>\n",
       "      <td>0.095996</td>\n",
       "      <td>True</td>\n",
       "    </tr>\n",
       "  </tbody>\n",
       "</table>\n",
       "</div>"
      ],
      "text/plain": [
       "               W      pval  equal_var\n",
       "levene  2.770914  0.095996       True"
      ]
     },
     "execution_count": 29,
     "metadata": {},
     "output_type": "execute_result"
    },
    {
     "data": {
      "application/javascript": [
       "\n",
       "            setTimeout(function() {\n",
       "                var nbb_cell_id = 29;\n",
       "                var nbb_unformatted_code = \"pg.homoscedasticity(data=arpu_experiment, dv=\\\"rev\\\", group=\\\"grp\\\", method=\\\"levene\\\")\";\n",
       "                var nbb_formatted_code = \"pg.homoscedasticity(data=arpu_experiment, dv=\\\"rev\\\", group=\\\"grp\\\", method=\\\"levene\\\")\";\n",
       "                var nbb_cells = Jupyter.notebook.get_cells();\n",
       "                for (var i = 0; i < nbb_cells.length; ++i) {\n",
       "                    if (nbb_cells[i].input_prompt_number == nbb_cell_id) {\n",
       "                        if (nbb_cells[i].get_text() == nbb_unformatted_code) {\n",
       "                             nbb_cells[i].set_text(nbb_formatted_code);\n",
       "                        }\n",
       "                        break;\n",
       "                    }\n",
       "                }\n",
       "            }, 500);\n",
       "            "
      ],
      "text/plain": [
       "<IPython.core.display.Javascript object>"
      ]
     },
     "metadata": {},
     "output_type": "display_data"
    }
   ],
   "source": [
    "pg.homoscedasticity(data=arpu_experiment, dv=\"rev\", group=\"grp\", method=\"levene\")"
   ]
  },
  {
   "cell_type": "code",
   "execution_count": 30,
   "metadata": {},
   "outputs": [
    {
     "data": {
      "application/vnd.jupyter.widget-view+json": {
       "model_id": "9cb33426553142839d12e2fa53a99e5d",
       "version_major": 2,
       "version_minor": 0
      },
      "text/plain": [
       "  0%|          | 0/1000 [00:00<?, ?it/s]"
      ]
     },
     "metadata": {},
     "output_type": "display_data"
    },
    {
     "data": {
      "image/png": "[encoded data removed]",
      "text/plain": [
       "<Figure size 640x480 with 1 Axes>"
      ]
     },
     "metadata": {},
     "output_type": "display_data"
    },
    {
     "data": {
      "application/javascript": [
       "\n",
       "            setTimeout(function() {\n",
       "                var nbb_cell_id = 30;\n",
       "                var nbb_unformatted_code = \"booted_data_mean_arpu = get_bootstrap(arpu_control, arpu_test)\";\n",
       "                var nbb_formatted_code = \"booted_data_mean_arpu = get_bootstrap(arpu_control, arpu_test)\";\n",
       "                var nbb_cells = Jupyter.notebook.get_cells();\n",
       "                for (var i = 0; i < nbb_cells.length; ++i) {\n",
       "                    if (nbb_cells[i].input_prompt_number == nbb_cell_id) {\n",
       "                        if (nbb_cells[i].get_text() == nbb_unformatted_code) {\n",
       "                             nbb_cells[i].set_text(nbb_formatted_code);\n",
       "                        }\n",
       "                        break;\n",
       "                    }\n",
       "                }\n",
       "            }, 500);\n",
       "            "
      ],
      "text/plain": [
       "<IPython.core.display.Javascript object>"
      ]
     },
     "metadata": {},
     "output_type": "display_data"
    }
   ],
   "source": [
    "booted_data_mean_arpu = get_bootstrap(arpu_control, arpu_test)"
   ]
  },
  {
   "cell_type": "code",
   "execution_count": 31,
   "metadata": {
    "scrolled": true
   },
   "outputs": [
    {
     "name": "stdout",
     "output_type": "stream",
     "text": [
      "p-value: 0.006\n",
      "ci 95%: [-2.826, -0.465]\n",
      "H0 is rejected\n"
     ]
    },
    {
     "data": {
      "application/javascript": [
       "\n",
       "            setTimeout(function() {\n",
       "                var nbb_cell_id = 31;\n",
       "                var nbb_unformatted_code = \"arpu_p_value = booted_data_mean_arpu[\\\"p_value\\\"]\\n\\narpu_lower_ci = booted_data_mean_arpu[\\\"ci\\\"].iloc[0, 0]\\narpu_upper_ci = booted_data_mean_arpu[\\\"ci\\\"].iloc[1, 0]\\n\\nprint(f\\\"p-value: {arpu_p_value:.3f}\\\")\\nprint(f\\\"ci 95%: [{arpu_lower_ci:.3f}, {arpu_upper_ci:.3f}]\\\")\\n\\nif arpu_p_value <= alpha:\\n    print(\\\"H0 is rejected\\\")\\nelse:\\n    print(\\\"H0 can not be rejected\\\")\";\n",
       "                var nbb_formatted_code = \"arpu_p_value = booted_data_mean_arpu[\\\"p_value\\\"]\\n\\narpu_lower_ci = booted_data_mean_arpu[\\\"ci\\\"].iloc[0, 0]\\narpu_upper_ci = booted_data_mean_arpu[\\\"ci\\\"].iloc[1, 0]\\n\\nprint(f\\\"p-value: {arpu_p_value:.3f}\\\")\\nprint(f\\\"ci 95%: [{arpu_lower_ci:.3f}, {arpu_upper_ci:.3f}]\\\")\\n\\nif arpu_p_value <= alpha:\\n    print(\\\"H0 is rejected\\\")\\nelse:\\n    print(\\\"H0 can not be rejected\\\")\";\n",
       "                var nbb_cells = Jupyter.notebook.get_cells();\n",
       "                for (var i = 0; i < nbb_cells.length; ++i) {\n",
       "                    if (nbb_cells[i].input_prompt_number == nbb_cell_id) {\n",
       "                        if (nbb_cells[i].get_text() == nbb_unformatted_code) {\n",
       "                             nbb_cells[i].set_text(nbb_formatted_code);\n",
       "                        }\n",
       "                        break;\n",
       "                    }\n",
       "                }\n",
       "            }, 500);\n",
       "            "
      ],
      "text/plain": [
       "<IPython.core.display.Javascript object>"
      ]
     },
     "metadata": {},
     "output_type": "display_data"
    }
   ],
   "source": [
    "arpu_p_value = booted_data_mean_arpu[\"p_value\"]\n",
    "\n",
    "arpu_lower_ci = booted_data_mean_arpu[\"ci\"].iloc[0, 0]\n",
    "arpu_upper_ci = booted_data_mean_arpu[\"ci\"].iloc[1, 0]\n",
    "\n",
    "print(f\"p-value: {arpu_p_value:.3f}\")\n",
    "print(f\"ci 95%: [{arpu_lower_ci:.3f}, {arpu_upper_ci:.3f}]\")\n",
    "\n",
    "if arpu_p_value <= alpha:\n",
    "    print(\"H0 is rejected\")\n",
    "else:\n",
    "    print(\"H0 can not be rejected\")"
   ]
  },
  {
   "cell_type": "code",
   "execution_count": 32,
   "metadata": {},
   "outputs": [
    {
     "name": "stdout",
     "output_type": "stream",
     "text": [
      "H0 can not be rejected\n"
     ]
    },
    {
     "data": {
      "application/javascript": [
       "\n",
       "            setTimeout(function() {\n",
       "                var nbb_cell_id = 32;\n",
       "                var nbb_unformatted_code = \"scipy.stats.ttest_ind(arpu_control, arpu_test)\\n\\nif scipy.stats.ttest_ind(arpu_control, arpu_test)[1] < alpha:\\n    print(\\\"H0 is rejected\\\")\\nelse:\\n    print(\\\"H0 can not be rejected\\\")\";\n",
       "                var nbb_formatted_code = \"scipy.stats.ttest_ind(arpu_control, arpu_test)\\n\\nif scipy.stats.ttest_ind(arpu_control, arpu_test)[1] < alpha:\\n    print(\\\"H0 is rejected\\\")\\nelse:\\n    print(\\\"H0 can not be rejected\\\")\";\n",
       "                var nbb_cells = Jupyter.notebook.get_cells();\n",
       "                for (var i = 0; i < nbb_cells.length; ++i) {\n",
       "                    if (nbb_cells[i].input_prompt_number == nbb_cell_id) {\n",
       "                        if (nbb_cells[i].get_text() == nbb_unformatted_code) {\n",
       "                             nbb_cells[i].set_text(nbb_formatted_code);\n",
       "                        }\n",
       "                        break;\n",
       "                    }\n",
       "                }\n",
       "            }, 500);\n",
       "            "
      ],
      "text/plain": [
       "<IPython.core.display.Javascript object>"
      ]
     },
     "metadata": {},
     "output_type": "display_data"
    }
   ],
   "source": [
    "scipy.stats.ttest_ind(arpu_control, arpu_test)\n",
    "\n",
    "if scipy.stats.ttest_ind(arpu_control, arpu_test)[1] < alpha:\n",
    "    print(\"H0 is rejected\")\n",
    "else:\n",
    "    print(\"H0 can not be rejected\")"
   ]
  },
  {
   "cell_type": "markdown",
   "metadata": {},
   "source": [
    "#### ARPPU A/B test"
   ]
  },
  {
   "cell_type": "code",
   "execution_count": 33,
   "metadata": {},
   "outputs": [
    {
     "data": {
      "application/javascript": [
       "\n",
       "            setTimeout(function() {\n",
       "                var nbb_cell_id = 33;\n",
       "                var nbb_unformatted_code = \"arppu_experiment = df[df[\\\"paid\\\"] == 1]\\narppu_control = df[(df[\\\"grp\\\"] == \\\"A\\\") & (df[\\\"paid\\\"] == 1)][\\\"rev\\\"]\\narppu_test = df[(df[\\\"grp\\\"] == \\\"B\\\") & (df[\\\"paid\\\"] == 1)][\\\"rev\\\"]\";\n",
       "                var nbb_formatted_code = \"arppu_experiment = df[df[\\\"paid\\\"] == 1]\\narppu_control = df[(df[\\\"grp\\\"] == \\\"A\\\") & (df[\\\"paid\\\"] == 1)][\\\"rev\\\"]\\narppu_test = df[(df[\\\"grp\\\"] == \\\"B\\\") & (df[\\\"paid\\\"] == 1)][\\\"rev\\\"]\";\n",
       "                var nbb_cells = Jupyter.notebook.get_cells();\n",
       "                for (var i = 0; i < nbb_cells.length; ++i) {\n",
       "                    if (nbb_cells[i].input_prompt_number == nbb_cell_id) {\n",
       "                        if (nbb_cells[i].get_text() == nbb_unformatted_code) {\n",
       "                             nbb_cells[i].set_text(nbb_formatted_code);\n",
       "                        }\n",
       "                        break;\n",
       "                    }\n",
       "                }\n",
       "            }, 500);\n",
       "            "
      ],
      "text/plain": [
       "<IPython.core.display.Javascript object>"
      ]
     },
     "metadata": {},
     "output_type": "display_data"
    }
   ],
   "source": [
    "arppu_experiment = df[df[\"paid\"] == 1]\n",
    "arppu_control = df[(df[\"grp\"] == \"A\") & (df[\"paid\"] == 1)][\"rev\"]\n",
    "arppu_test = df[(df[\"grp\"] == \"B\") & (df[\"paid\"] == 1)][\"rev\"]"
   ]
  },
  {
   "cell_type": "code",
   "execution_count": 34,
   "metadata": {},
   "outputs": [
    {
     "data": {
      "text/html": [
       "<div>\n",
       "<style scoped>\n",
       "    .dataframe tbody tr th:only-of-type {\n",
       "        vertical-align: middle;\n",
       "    }\n",
       "\n",
       "    .dataframe tbody tr th {\n",
       "        vertical-align: top;\n",
       "    }\n",
       "\n",
       "    .dataframe thead th {\n",
       "        text-align: right;\n",
       "    }\n",
       "</style>\n",
       "<table border=\"1\" class=\"dataframe\">\n",
       "  <thead>\n",
       "    <tr style=\"text-align: right;\">\n",
       "      <th></th>\n",
       "      <th>W</th>\n",
       "      <th>pval</th>\n",
       "      <th>equal_var</th>\n",
       "    </tr>\n",
       "  </thead>\n",
       "  <tbody>\n",
       "    <tr>\n",
       "      <th>levene</th>\n",
       "      <td>3.055864</td>\n",
       "      <td>0.081235</td>\n",
       "      <td>True</td>\n",
       "    </tr>\n",
       "  </tbody>\n",
       "</table>\n",
       "</div>"
      ],
      "text/plain": [
       "               W      pval  equal_var\n",
       "levene  3.055864  0.081235       True"
      ]
     },
     "execution_count": 34,
     "metadata": {},
     "output_type": "execute_result"
    },
    {
     "data": {
      "application/javascript": [
       "\n",
       "            setTimeout(function() {\n",
       "                var nbb_cell_id = 34;\n",
       "                var nbb_unformatted_code = \"pg.homoscedasticity(data=arppu_experiment, dv=\\\"rev\\\", group=\\\"grp\\\", method=\\\"levene\\\")\";\n",
       "                var nbb_formatted_code = \"pg.homoscedasticity(data=arppu_experiment, dv=\\\"rev\\\", group=\\\"grp\\\", method=\\\"levene\\\")\";\n",
       "                var nbb_cells = Jupyter.notebook.get_cells();\n",
       "                for (var i = 0; i < nbb_cells.length; ++i) {\n",
       "                    if (nbb_cells[i].input_prompt_number == nbb_cell_id) {\n",
       "                        if (nbb_cells[i].get_text() == nbb_unformatted_code) {\n",
       "                             nbb_cells[i].set_text(nbb_formatted_code);\n",
       "                        }\n",
       "                        break;\n",
       "                    }\n",
       "                }\n",
       "            }, 500);\n",
       "            "
      ],
      "text/plain": [
       "<IPython.core.display.Javascript object>"
      ]
     },
     "metadata": {},
     "output_type": "display_data"
    }
   ],
   "source": [
    "pg.homoscedasticity(data=arppu_experiment, dv=\"rev\", group=\"grp\", method=\"levene\")"
   ]
  },
  {
   "cell_type": "code",
   "execution_count": 35,
   "metadata": {},
   "outputs": [
    {
     "data": {
      "application/vnd.jupyter.widget-view+json": {
       "model_id": "6997681bafe84f88ac8c67d62b536636",
       "version_major": 2,
       "version_minor": 0
      },
      "text/plain": [
       "  0%|          | 0/1000 [00:00<?, ?it/s]"
      ]
     },
     "metadata": {},
     "output_type": "display_data"
    },
    {
     "data": {
      "image/png": "[encoded data removed]",
      "text/plain": [
       "<Figure size 640x480 with 1 Axes>"
      ]
     },
     "metadata": {},
     "output_type": "display_data"
    },
    {
     "data": {
      "application/javascript": [
       "\n",
       "            setTimeout(function() {\n",
       "                var nbb_cell_id = 35;\n",
       "                var nbb_unformatted_code = \"booted_data_mean_arppu = get_bootstrap(arppu_control, arppu_test)\";\n",
       "                var nbb_formatted_code = \"booted_data_mean_arppu = get_bootstrap(arppu_control, arppu_test)\";\n",
       "                var nbb_cells = Jupyter.notebook.get_cells();\n",
       "                for (var i = 0; i < nbb_cells.length; ++i) {\n",
       "                    if (nbb_cells[i].input_prompt_number == nbb_cell_id) {\n",
       "                        if (nbb_cells[i].get_text() == nbb_unformatted_code) {\n",
       "                             nbb_cells[i].set_text(nbb_formatted_code);\n",
       "                        }\n",
       "                        break;\n",
       "                    }\n",
       "                }\n",
       "            }, 500);\n",
       "            "
      ],
      "text/plain": [
       "<IPython.core.display.Javascript object>"
      ]
     },
     "metadata": {},
     "output_type": "display_data"
    }
   ],
   "source": [
    "booted_data_mean_arppu = get_bootstrap(arppu_control, arppu_test)"
   ]
  },
  {
   "cell_type": "code",
   "execution_count": 36,
   "metadata": {},
   "outputs": [
    {
     "name": "stdout",
     "output_type": "stream",
     "text": [
      "p-value: 0.000\n",
      "ci 95%: [-459.936, -197.187]\n",
      "H0 is rejected\n"
     ]
    },
    {
     "data": {
      "application/javascript": [
       "\n",
       "            setTimeout(function() {\n",
       "                var nbb_cell_id = 36;\n",
       "                var nbb_unformatted_code = \"arppu_p_value = booted_data_mean_arppu[\\\"p_value\\\"]\\n\\narppu_lower_ci = booted_data_mean_arppu[\\\"ci\\\"].iloc[0, 0]\\narppu_upper_ci = booted_data_mean_arppu[\\\"ci\\\"].iloc[1, 0]\\n\\nprint(f\\\"p-value: {arppu_p_value:.3f}\\\")\\nprint(f\\\"ci 95%: [{arppu_lower_ci:.3f}, {arppu_upper_ci:.3f}]\\\")\\n\\nif arppu_p_value <= alpha:\\n    print(\\\"H0 is rejected\\\")\\nelse:\\n    print(\\\"H0 can not be rejected\\\")\";\n",
       "                var nbb_formatted_code = \"arppu_p_value = booted_data_mean_arppu[\\\"p_value\\\"]\\n\\narppu_lower_ci = booted_data_mean_arppu[\\\"ci\\\"].iloc[0, 0]\\narppu_upper_ci = booted_data_mean_arppu[\\\"ci\\\"].iloc[1, 0]\\n\\nprint(f\\\"p-value: {arppu_p_value:.3f}\\\")\\nprint(f\\\"ci 95%: [{arppu_lower_ci:.3f}, {arppu_upper_ci:.3f}]\\\")\\n\\nif arppu_p_value <= alpha:\\n    print(\\\"H0 is rejected\\\")\\nelse:\\n    print(\\\"H0 can not be rejected\\\")\";\n",
       "                var nbb_cells = Jupyter.notebook.get_cells();\n",
       "                for (var i = 0; i < nbb_cells.length; ++i) {\n",
       "                    if (nbb_cells[i].input_prompt_number == nbb_cell_id) {\n",
       "                        if (nbb_cells[i].get_text() == nbb_unformatted_code) {\n",
       "                             nbb_cells[i].set_text(nbb_formatted_code);\n",
       "                        }\n",
       "                        break;\n",
       "                    }\n",
       "                }\n",
       "            }, 500);\n",
       "            "
      ],
      "text/plain": [
       "<IPython.core.display.Javascript object>"
      ]
     },
     "metadata": {},
     "output_type": "display_data"
    }
   ],
   "source": [
    "arppu_p_value = booted_data_mean_arppu[\"p_value\"]\n",
    "\n",
    "arppu_lower_ci = booted_data_mean_arppu[\"ci\"].iloc[0, 0]\n",
    "arppu_upper_ci = booted_data_mean_arppu[\"ci\"].iloc[1, 0]\n",
    "\n",
    "print(f\"p-value: {arppu_p_value:.3f}\")\n",
    "print(f\"ci 95%: [{arppu_lower_ci:.3f}, {arppu_upper_ci:.3f}]\")\n",
    "\n",
    "if arppu_p_value <= alpha:\n",
    "    print(\"H0 is rejected\")\n",
    "else:\n",
    "    print(\"H0 can not be rejected\")"
   ]
  },
  {
   "cell_type": "code",
   "execution_count": 37,
   "metadata": {},
   "outputs": [
    {
     "name": "stdout",
     "output_type": "stream",
     "text": [
      "H0 is rejected\n"
     ]
    },
    {
     "data": {
      "application/javascript": [
       "\n",
       "            setTimeout(function() {\n",
       "                var nbb_cell_id = 37;\n",
       "                var nbb_unformatted_code = \"scipy.stats.ttest_ind(arppu_control, arppu_test)\\n\\nif scipy.stats.ttest_ind(arppu_control, arppu_test)[1] < alpha:\\n    print(\\\"H0 is rejected\\\")\\nelse:\\n    print(\\\"H0 can not be rejected\\\")\";\n",
       "                var nbb_formatted_code = \"scipy.stats.ttest_ind(arppu_control, arppu_test)\\n\\nif scipy.stats.ttest_ind(arppu_control, arppu_test)[1] < alpha:\\n    print(\\\"H0 is rejected\\\")\\nelse:\\n    print(\\\"H0 can not be rejected\\\")\";\n",
       "                var nbb_cells = Jupyter.notebook.get_cells();\n",
       "                for (var i = 0; i < nbb_cells.length; ++i) {\n",
       "                    if (nbb_cells[i].input_prompt_number == nbb_cell_id) {\n",
       "                        if (nbb_cells[i].get_text() == nbb_unformatted_code) {\n",
       "                             nbb_cells[i].set_text(nbb_formatted_code);\n",
       "                        }\n",
       "                        break;\n",
       "                    }\n",
       "                }\n",
       "            }, 500);\n",
       "            "
      ],
      "text/plain": [
       "<IPython.core.display.Javascript object>"
      ]
     },
     "metadata": {},
     "output_type": "display_data"
    }
   ],
   "source": [
    "scipy.stats.ttest_ind(arppu_control, arppu_test)\n",
    "\n",
    "if scipy.stats.ttest_ind(arppu_control, arppu_test)[1] < alpha:\n",
    "    print(\"H0 is rejected\")\n",
    "else:\n",
    "    print(\"H0 can not be rejected\")"
   ]
  },
  {
   "cell_type": "markdown",
   "metadata": {},
   "source": [
    "#### CR A/B test"
   ]
  },
  {
   "cell_type": "markdown",
   "metadata": {},
   "source": [
    "As the **conversion** is a binomial value, it is better to use **z-test** or **chi-squared test**.\n",
    "\n",
    "**$H_0$** means that new payment method did not influence CR significantly different than the old one."
   ]
  },
  {
   "cell_type": "code",
   "execution_count": 38,
   "metadata": {},
   "outputs": [
    {
     "name": "stdout",
     "output_type": "stream",
     "text": [
      "p-value: 0.951\n",
      "H0 can not be rejected\n"
     ]
    },
    {
     "data": {
      "application/javascript": [
       "\n",
       "            setTimeout(function() {\n",
       "                var nbb_cell_id = 38;\n",
       "                var nbb_unformatted_code = \"cr_crosstab = pd.crosstab(df[\\\"grp\\\"], df[\\\"paid\\\"])\\n\\ncr_stat, cr_p, cr_dof, cr_expected = chi2_contingency(cr_crosstab)\\n\\nif cr_p <= alpha:\\n    print(f\\\"p-value: {cr_p:.3f}\\\")\\n    print(\\\"H0 is rejected\\\")\\nelse:\\n    print(f\\\"p-value: {cr_p:.3f}\\\")\\n    print(\\\"H0 can not be rejected\\\")\";\n",
       "                var nbb_formatted_code = \"cr_crosstab = pd.crosstab(df[\\\"grp\\\"], df[\\\"paid\\\"])\\n\\ncr_stat, cr_p, cr_dof, cr_expected = chi2_contingency(cr_crosstab)\\n\\nif cr_p <= alpha:\\n    print(f\\\"p-value: {cr_p:.3f}\\\")\\n    print(\\\"H0 is rejected\\\")\\nelse:\\n    print(f\\\"p-value: {cr_p:.3f}\\\")\\n    print(\\\"H0 can not be rejected\\\")\";\n",
       "                var nbb_cells = Jupyter.notebook.get_cells();\n",
       "                for (var i = 0; i < nbb_cells.length; ++i) {\n",
       "                    if (nbb_cells[i].input_prompt_number == nbb_cell_id) {\n",
       "                        if (nbb_cells[i].get_text() == nbb_unformatted_code) {\n",
       "                             nbb_cells[i].set_text(nbb_formatted_code);\n",
       "                        }\n",
       "                        break;\n",
       "                    }\n",
       "                }\n",
       "            }, 500);\n",
       "            "
      ],
      "text/plain": [
       "<IPython.core.display.Javascript object>"
      ]
     },
     "metadata": {},
     "output_type": "display_data"
    }
   ],
   "source": [
    "cr_crosstab = pd.crosstab(df[\"grp\"], df[\"paid\"])\n",
    "\n",
    "cr_stat, cr_p, cr_dof, cr_expected = chi2_contingency(cr_crosstab)\n",
    "\n",
    "if cr_p <= alpha:\n",
    "    print(f\"p-value: {cr_p:.3f}\")\n",
    "    print(\"H0 is rejected\")\n",
    "else:\n",
    "    print(f\"p-value: {cr_p:.3f}\")\n",
    "    print(\"H0 can not be rejected\")"
   ]
  },
  {
   "cell_type": "code",
   "execution_count": 39,
   "metadata": {},
   "outputs": [
    {
     "name": "stdout",
     "output_type": "stream",
     "text": [
      "z statistic: 0.13\n",
      "p-value: 0.900\n",
      "ci 95% for control group: [0.004, 0.007]\n",
      "ci 95% for treatment group: [0.005, 0.006]\n",
      "H0 can not be rejected\n"
     ]
    },
    {
     "data": {
      "application/javascript": [
       "\n",
       "            setTimeout(function() {\n",
       "                var nbb_cell_id = 39;\n",
       "                var nbb_unformatted_code = \"cr_control_results = df[df[\\\"grp\\\"] == \\\"A\\\"][\\\"paid\\\"]\\ncr_test_results = df[df[\\\"grp\\\"] == \\\"B\\\"][\\\"paid\\\"]\\n\\ncr_num_control = cr_control_results.count()\\ncr_num_test = cr_test_results.count()\\ncr_successes = [cr_control_results.sum(), cr_test_results.sum()]\\ncr_nobs = [cr_num_control, cr_num_test]\\n\\ncr_z_stat, cr_pval = proportions_ztest(cr_successes, nobs=cr_nobs)\\n(cr_lower_control, cr_lower_test), (\\n    cr_upper_control,\\n    cr_upper_test,\\n) = proportion_confint(cr_successes, nobs=cr_nobs, alpha=alpha)\\n\\nprint(f\\\"z statistic: {cr_z_stat:.2f}\\\")\\nprint(f\\\"p-value: {cr_pval:.3f}\\\")\\nprint(f\\\"ci 95% for control group: [{cr_lower_control:.3f}, {cr_upper_control:.3f}]\\\")\\nprint(f\\\"ci 95% for treatment group: [{cr_lower_test:.3f}, {cr_upper_test:.3f}]\\\")\\n\\nif cr_pval <= alpha:\\n    print(\\\"H0 is rejected\\\")\\nelse:\\n    print(\\\"H0 can not be rejected\\\")\";\n",
       "                var nbb_formatted_code = \"cr_control_results = df[df[\\\"grp\\\"] == \\\"A\\\"][\\\"paid\\\"]\\ncr_test_results = df[df[\\\"grp\\\"] == \\\"B\\\"][\\\"paid\\\"]\\n\\ncr_num_control = cr_control_results.count()\\ncr_num_test = cr_test_results.count()\\ncr_successes = [cr_control_results.sum(), cr_test_results.sum()]\\ncr_nobs = [cr_num_control, cr_num_test]\\n\\ncr_z_stat, cr_pval = proportions_ztest(cr_successes, nobs=cr_nobs)\\n(cr_lower_control, cr_lower_test), (\\n    cr_upper_control,\\n    cr_upper_test,\\n) = proportion_confint(cr_successes, nobs=cr_nobs, alpha=alpha)\\n\\nprint(f\\\"z statistic: {cr_z_stat:.2f}\\\")\\nprint(f\\\"p-value: {cr_pval:.3f}\\\")\\nprint(f\\\"ci 95% for control group: [{cr_lower_control:.3f}, {cr_upper_control:.3f}]\\\")\\nprint(f\\\"ci 95% for treatment group: [{cr_lower_test:.3f}, {cr_upper_test:.3f}]\\\")\\n\\nif cr_pval <= alpha:\\n    print(\\\"H0 is rejected\\\")\\nelse:\\n    print(\\\"H0 can not be rejected\\\")\";\n",
       "                var nbb_cells = Jupyter.notebook.get_cells();\n",
       "                for (var i = 0; i < nbb_cells.length; ++i) {\n",
       "                    if (nbb_cells[i].input_prompt_number == nbb_cell_id) {\n",
       "                        if (nbb_cells[i].get_text() == nbb_unformatted_code) {\n",
       "                             nbb_cells[i].set_text(nbb_formatted_code);\n",
       "                        }\n",
       "                        break;\n",
       "                    }\n",
       "                }\n",
       "            }, 500);\n",
       "            "
      ],
      "text/plain": [
       "<IPython.core.display.Javascript object>"
      ]
     },
     "metadata": {},
     "output_type": "display_data"
    }
   ],
   "source": [
    "cr_control_results = df[df[\"grp\"] == \"A\"][\"paid\"]\n",
    "cr_test_results = df[df[\"grp\"] == \"B\"][\"paid\"]\n",
    "\n",
    "cr_num_control = cr_control_results.count()\n",
    "cr_num_test = cr_test_results.count()\n",
    "cr_successes = [cr_control_results.sum(), cr_test_results.sum()]\n",
    "cr_nobs = [cr_num_control, cr_num_test]\n",
    "\n",
    "cr_z_stat, cr_pval = proportions_ztest(cr_successes, nobs=cr_nobs)\n",
    "(cr_lower_control, cr_lower_test), (\n",
    "    cr_upper_control,\n",
    "    cr_upper_test,\n",
    ") = proportion_confint(cr_successes, nobs=cr_nobs, alpha=alpha)\n",
    "\n",
    "print(f\"z statistic: {cr_z_stat:.2f}\")\n",
    "print(f\"p-value: {cr_pval:.3f}\")\n",
    "print(f\"ci 95% for control group: [{cr_lower_control:.3f}, {cr_upper_control:.3f}]\")\n",
    "print(f\"ci 95% for treatment group: [{cr_lower_test:.3f}, {cr_upper_test:.3f}]\")\n",
    "\n",
    "if cr_pval <= alpha:\n",
    "    print(\"H0 is rejected\")\n",
    "else:\n",
    "    print(\"H0 can not be rejected\")"
   ]
  },
  {
   "cell_type": "markdown",
   "metadata": {},
   "source": [
    "**A/B test results**:\n",
    "- for CR and ARPU we can not reject null hypothesis, which means that new payment method did not affect CR and ARPU significantly;\n",
    "- while for ARPPU we reject null hypothesis, which means that there is statistical significance in a set of given observations.\n",
    "\n",
    "As far as there are data anomalies such as huge increase in number of checks around 2000 RUB in test group and \n",
    "significant difference in number of users in control and test groups, **the next steps would be**:\n",
    "1. investigate whether there were some marketing campaigns or other experiments that could have influenced our results; \n",
    "2. postpone new payment method roll-out until further clarifications."
   ]
  },
  {
   "cell_type": "markdown",
   "metadata": {},
   "source": [
    "### 2. Creating a function to automate the process"
   ]
  },
  {
   "cell_type": "code",
   "execution_count": 40,
   "metadata": {},
   "outputs": [
    {
     "data": {
      "application/javascript": [
       "\n",
       "            setTimeout(function() {\n",
       "                var nbb_cell_id = 40;\n",
       "                var nbb_unformatted_code = \"# Create a function to get data\\n\\n\\ndef get_data(PATH_TO_GROUPS, PATH_TO_GROUP_ADD, PATH_TO_ACTIVE_STUDS, PATH_TO_CHECKS):\\n\\n    df_groups = pd.read_csv(PATH_TO_GROUPS, sep=\\\";\\\")\\n    df_group_add = pd.read_csv(PATH_TO_GROUP_ADD, sep=\\\",\\\")\\n    df_active_studs = (\\n        pd.read_csv(PATH_TO_ACTIVE_STUDS, sep=\\\";\\\")\\n        .rename(columns={\\\"student_id\\\": \\\"id\\\"})\\n        .assign(active=1)\\n    )\\n    df_checks = (\\n        pd.read_csv(PATH_TO_CHECKS, sep=\\\";\\\")\\n        .rename(columns={\\\"student_id\\\": \\\"id\\\"})\\n        .assign(paid=1)\\n    )\\n\\n    df_experiment_groups = pd.concat([df_groups, df_group_add], ignore_index=True)\\n\\n    df = df_experiment_groups.merge(df_active_studs, on=\\\"id\\\", how=\\\"left\\\").fillna(0)\\n    df = df.merge(df_checks, on=\\\"id\\\", how=\\\"left\\\").fillna(0)\\n\\n    return df\";\n",
       "                var nbb_formatted_code = \"# Create a function to get data\\n\\n\\ndef get_data(PATH_TO_GROUPS, PATH_TO_GROUP_ADD, PATH_TO_ACTIVE_STUDS, PATH_TO_CHECKS):\\n\\n    df_groups = pd.read_csv(PATH_TO_GROUPS, sep=\\\";\\\")\\n    df_group_add = pd.read_csv(PATH_TO_GROUP_ADD, sep=\\\",\\\")\\n    df_active_studs = (\\n        pd.read_csv(PATH_TO_ACTIVE_STUDS, sep=\\\";\\\")\\n        .rename(columns={\\\"student_id\\\": \\\"id\\\"})\\n        .assign(active=1)\\n    )\\n    df_checks = (\\n        pd.read_csv(PATH_TO_CHECKS, sep=\\\";\\\")\\n        .rename(columns={\\\"student_id\\\": \\\"id\\\"})\\n        .assign(paid=1)\\n    )\\n\\n    df_experiment_groups = pd.concat([df_groups, df_group_add], ignore_index=True)\\n\\n    df = df_experiment_groups.merge(df_active_studs, on=\\\"id\\\", how=\\\"left\\\").fillna(0)\\n    df = df.merge(df_checks, on=\\\"id\\\", how=\\\"left\\\").fillna(0)\\n\\n    return df\";\n",
       "                var nbb_cells = Jupyter.notebook.get_cells();\n",
       "                for (var i = 0; i < nbb_cells.length; ++i) {\n",
       "                    if (nbb_cells[i].input_prompt_number == nbb_cell_id) {\n",
       "                        if (nbb_cells[i].get_text() == nbb_unformatted_code) {\n",
       "                             nbb_cells[i].set_text(nbb_formatted_code);\n",
       "                        }\n",
       "                        break;\n",
       "                    }\n",
       "                }\n",
       "            }, 500);\n",
       "            "
      ],
      "text/plain": [
       "<IPython.core.display.Javascript object>"
      ]
     },
     "metadata": {},
     "output_type": "display_data"
    }
   ],
   "source": [
    "# Create a function to get data\n",
    "\n",
    "\n",
    "def get_data(PATH_TO_GROUPS, PATH_TO_GROUP_ADD, PATH_TO_ACTIVE_STUDS, PATH_TO_CHECKS):\n",
    "\n",
    "    df_groups = pd.read_csv(PATH_TO_GROUPS, sep=\";\")\n",
    "    df_group_add = pd.read_csv(PATH_TO_GROUP_ADD, sep=\",\")\n",
    "    df_active_studs = (\n",
    "        pd.read_csv(PATH_TO_ACTIVE_STUDS, sep=\";\")\n",
    "        .rename(columns={\"student_id\": \"id\"})\n",
    "        .assign(active=1)\n",
    "    )\n",
    "    df_checks = (\n",
    "        pd.read_csv(PATH_TO_CHECKS, sep=\";\")\n",
    "        .rename(columns={\"student_id\": \"id\"})\n",
    "        .assign(paid=1)\n",
    "    )\n",
    "\n",
    "    df_experiment_groups = pd.concat([df_groups, df_group_add], ignore_index=True)\n",
    "\n",
    "    df = df_experiment_groups.merge(df_active_studs, on=\"id\", how=\"left\").fillna(0)\n",
    "    df = df.merge(df_checks, on=\"id\", how=\"left\").fillna(0)\n",
    "\n",
    "    return df"
   ]
  },
  {
   "cell_type": "code",
   "execution_count": 41,
   "metadata": {},
   "outputs": [
    {
     "data": {
      "application/javascript": [
       "\n",
       "            setTimeout(function() {\n",
       "                var nbb_cell_id = 41;\n",
       "                var nbb_unformatted_code = \"# Create a function to calculate metrics\\n\\n\\ndef calculate_mertics(df):\\n\\n    df_arpu = (\\n        df.groupby(\\\"grp\\\", as_index=False)\\n        .agg({\\\"rev\\\": \\\"sum\\\", \\\"id\\\": \\\"count\\\"})\\n        .rename(columns={\\\"id\\\": \\\"users\\\"})\\n    )\\n    df_arpu[\\\"ARPU\\\"] = round(df_arpu[\\\"rev\\\"] / df_arpu[\\\"users\\\"], 2)\\n\\n    df_arppu = (\\n        df.query(\\\"rev > 0\\\")\\n        .groupby(\\\"grp\\\", as_index=False)\\n        .agg({\\\"rev\\\": \\\"sum\\\", \\\"paid\\\": \\\"sum\\\"})\\n        .rename(columns={\\\"paid\\\": \\\"paid_users\\\"})\\n    )\\n    df_arppu[\\\"ARPPU\\\"] = round(df_arppu[\\\"rev\\\"] / df_arppu[\\\"paid_users\\\"], 2)\\n\\n    df_cr = (\\n        df.groupby(\\\"grp\\\", as_index=False)\\n        .agg({\\\"id\\\": \\\"count\\\", \\\"paid\\\": \\\"sum\\\"})\\n        .rename(columns={\\\"id\\\": \\\"all_users\\\", \\\"paid\\\": \\\"paid_users\\\"})\\n    )\\n    df_cr[\\\"CR\\\"] = round(df_cr[\\\"paid_users\\\"] / df_cr[\\\"all_users\\\"] * 100, 2)\\n\\n    df_metrics = pd.concat(\\n        [df_arpu[[\\\"grp\\\", \\\"ARPU\\\"]], df_arppu[\\\"ARPPU\\\"], df_cr[\\\"CR\\\"]], axis=1\\n    )\\n\\n    return df_metrics\";\n",
       "                var nbb_formatted_code = \"# Create a function to calculate metrics\\n\\n\\ndef calculate_mertics(df):\\n\\n    df_arpu = (\\n        df.groupby(\\\"grp\\\", as_index=False)\\n        .agg({\\\"rev\\\": \\\"sum\\\", \\\"id\\\": \\\"count\\\"})\\n        .rename(columns={\\\"id\\\": \\\"users\\\"})\\n    )\\n    df_arpu[\\\"ARPU\\\"] = round(df_arpu[\\\"rev\\\"] / df_arpu[\\\"users\\\"], 2)\\n\\n    df_arppu = (\\n        df.query(\\\"rev > 0\\\")\\n        .groupby(\\\"grp\\\", as_index=False)\\n        .agg({\\\"rev\\\": \\\"sum\\\", \\\"paid\\\": \\\"sum\\\"})\\n        .rename(columns={\\\"paid\\\": \\\"paid_users\\\"})\\n    )\\n    df_arppu[\\\"ARPPU\\\"] = round(df_arppu[\\\"rev\\\"] / df_arppu[\\\"paid_users\\\"], 2)\\n\\n    df_cr = (\\n        df.groupby(\\\"grp\\\", as_index=False)\\n        .agg({\\\"id\\\": \\\"count\\\", \\\"paid\\\": \\\"sum\\\"})\\n        .rename(columns={\\\"id\\\": \\\"all_users\\\", \\\"paid\\\": \\\"paid_users\\\"})\\n    )\\n    df_cr[\\\"CR\\\"] = round(df_cr[\\\"paid_users\\\"] / df_cr[\\\"all_users\\\"] * 100, 2)\\n\\n    df_metrics = pd.concat(\\n        [df_arpu[[\\\"grp\\\", \\\"ARPU\\\"]], df_arppu[\\\"ARPPU\\\"], df_cr[\\\"CR\\\"]], axis=1\\n    )\\n\\n    return df_metrics\";\n",
       "                var nbb_cells = Jupyter.notebook.get_cells();\n",
       "                for (var i = 0; i < nbb_cells.length; ++i) {\n",
       "                    if (nbb_cells[i].input_prompt_number == nbb_cell_id) {\n",
       "                        if (nbb_cells[i].get_text() == nbb_unformatted_code) {\n",
       "                             nbb_cells[i].set_text(nbb_formatted_code);\n",
       "                        }\n",
       "                        break;\n",
       "                    }\n",
       "                }\n",
       "            }, 500);\n",
       "            "
      ],
      "text/plain": [
       "<IPython.core.display.Javascript object>"
      ]
     },
     "metadata": {},
     "output_type": "display_data"
    }
   ],
   "source": [
    "# Create a function to calculate metrics\n",
    "\n",
    "\n",
    "def calculate_mertics(df):\n",
    "\n",
    "    df_arpu = (\n",
    "        df.groupby(\"grp\", as_index=False)\n",
    "        .agg({\"rev\": \"sum\", \"id\": \"count\"})\n",
    "        .rename(columns={\"id\": \"users\"})\n",
    "    )\n",
    "    df_arpu[\"ARPU\"] = round(df_arpu[\"rev\"] / df_arpu[\"users\"], 2)\n",
    "\n",
    "    df_arppu = (\n",
    "        df.query(\"rev > 0\")\n",
    "        .groupby(\"grp\", as_index=False)\n",
    "        .agg({\"rev\": \"sum\", \"paid\": \"sum\"})\n",
    "        .rename(columns={\"paid\": \"paid_users\"})\n",
    "    )\n",
    "    df_arppu[\"ARPPU\"] = round(df_arppu[\"rev\"] / df_arppu[\"paid_users\"], 2)\n",
    "\n",
    "    df_cr = (\n",
    "        df.groupby(\"grp\", as_index=False)\n",
    "        .agg({\"id\": \"count\", \"paid\": \"sum\"})\n",
    "        .rename(columns={\"id\": \"all_users\", \"paid\": \"paid_users\"})\n",
    "    )\n",
    "    df_cr[\"CR\"] = round(df_cr[\"paid_users\"] / df_cr[\"all_users\"] * 100, 2)\n",
    "\n",
    "    df_metrics = pd.concat(\n",
    "        [df_arpu[[\"grp\", \"ARPU\"]], df_arppu[\"ARPPU\"], df_cr[\"CR\"]], axis=1\n",
    "    )\n",
    "\n",
    "    return df_metrics"
   ]
  },
  {
   "cell_type": "code",
   "execution_count": 42,
   "metadata": {},
   "outputs": [
    {
     "data": {
      "application/javascript": [
       "\n",
       "            setTimeout(function() {\n",
       "                var nbb_cell_id = 42;\n",
       "                var nbb_unformatted_code = \"# Create a function to update metrics automatically\\n\\n\\ndef update_metrics(\\n    PATH_TO_GROUPS, PATH_TO_GROUP_ADD, PATH_TO_ACTIVE_STUDS, PATH_TO_CHECKS\\n):\\n\\n    df = get_data(\\n        PATH_TO_GROUPS, PATH_TO_GROUP_ADD, PATH_TO_ACTIVE_STUDS, PATH_TO_CHECKS\\n    )\\n    df_metrics = calculate_mertics(df)\\n\\n    return df_metrics\";\n",
       "                var nbb_formatted_code = \"# Create a function to update metrics automatically\\n\\n\\ndef update_metrics(\\n    PATH_TO_GROUPS, PATH_TO_GROUP_ADD, PATH_TO_ACTIVE_STUDS, PATH_TO_CHECKS\\n):\\n\\n    df = get_data(\\n        PATH_TO_GROUPS, PATH_TO_GROUP_ADD, PATH_TO_ACTIVE_STUDS, PATH_TO_CHECKS\\n    )\\n    df_metrics = calculate_mertics(df)\\n\\n    return df_metrics\";\n",
       "                var nbb_cells = Jupyter.notebook.get_cells();\n",
       "                for (var i = 0; i < nbb_cells.length; ++i) {\n",
       "                    if (nbb_cells[i].input_prompt_number == nbb_cell_id) {\n",
       "                        if (nbb_cells[i].get_text() == nbb_unformatted_code) {\n",
       "                             nbb_cells[i].set_text(nbb_formatted_code);\n",
       "                        }\n",
       "                        break;\n",
       "                    }\n",
       "                }\n",
       "            }, 500);\n",
       "            "
      ],
      "text/plain": [
       "<IPython.core.display.Javascript object>"
      ]
     },
     "metadata": {},
     "output_type": "display_data"
    }
   ],
   "source": [
    "# Create a function to update metrics automatically\n",
    "\n",
    "\n",
    "def update_metrics(\n",
    "    PATH_TO_GROUPS, PATH_TO_GROUP_ADD, PATH_TO_ACTIVE_STUDS, PATH_TO_CHECKS\n",
    "):\n",
    "\n",
    "    df = get_data(\n",
    "        PATH_TO_GROUPS, PATH_TO_GROUP_ADD, PATH_TO_ACTIVE_STUDS, PATH_TO_CHECKS\n",
    "    )\n",
    "    df_metrics = calculate_mertics(df)\n",
    "\n",
    "    return df_metrics"
   ]
  },
  {
   "cell_type": "code",
   "execution_count": 43,
   "metadata": {},
   "outputs": [
    {
     "data": {
      "text/html": [
       "<div>\n",
       "<style scoped>\n",
       "    .dataframe tbody tr th:only-of-type {\n",
       "        vertical-align: middle;\n",
       "    }\n",
       "\n",
       "    .dataframe tbody tr th {\n",
       "        vertical-align: top;\n",
       "    }\n",
       "\n",
       "    .dataframe thead th {\n",
       "        text-align: right;\n",
       "    }\n",
       "</style>\n",
       "<table border=\"1\" class=\"dataframe\">\n",
       "  <thead>\n",
       "    <tr style=\"text-align: right;\">\n",
       "      <th></th>\n",
       "      <th>grp</th>\n",
       "      <th>ARPU</th>\n",
       "      <th>ARPPU</th>\n",
       "      <th>CR</th>\n",
       "    </tr>\n",
       "  </thead>\n",
       "  <tbody>\n",
       "    <tr>\n",
       "      <th>0</th>\n",
       "      <td>A</td>\n",
       "      <td>6.27</td>\n",
       "      <td>860.71</td>\n",
       "      <td>0.73</td>\n",
       "    </tr>\n",
       "    <tr>\n",
       "      <th>1</th>\n",
       "      <td>B</td>\n",
       "      <td>8.04</td>\n",
       "      <td>1108.82</td>\n",
       "      <td>0.72</td>\n",
       "    </tr>\n",
       "  </tbody>\n",
       "</table>\n",
       "</div>"
      ],
      "text/plain": [
       "  grp  ARPU    ARPPU    CR\n",
       "0   A  6.27   860.71  0.73\n",
       "1   B  8.04  1108.82  0.72"
      ]
     },
     "execution_count": 43,
     "metadata": {},
     "output_type": "execute_result"
    },
    {
     "data": {
      "application/javascript": [
       "\n",
       "            setTimeout(function() {\n",
       "                var nbb_cell_id = 43;\n",
       "                var nbb_unformatted_code = \"update_metrics(PATH_TO_GROUPS, PATH_TO_GROUP_ADD, PATH_TO_ACTIVE_STUDS, PATH_TO_CHECKS)\";\n",
       "                var nbb_formatted_code = \"update_metrics(PATH_TO_GROUPS, PATH_TO_GROUP_ADD, PATH_TO_ACTIVE_STUDS, PATH_TO_CHECKS)\";\n",
       "                var nbb_cells = Jupyter.notebook.get_cells();\n",
       "                for (var i = 0; i < nbb_cells.length; ++i) {\n",
       "                    if (nbb_cells[i].input_prompt_number == nbb_cell_id) {\n",
       "                        if (nbb_cells[i].get_text() == nbb_unformatted_code) {\n",
       "                             nbb_cells[i].set_text(nbb_formatted_code);\n",
       "                        }\n",
       "                        break;\n",
       "                    }\n",
       "                }\n",
       "            }, 500);\n",
       "            "
      ],
      "text/plain": [
       "<IPython.core.display.Javascript object>"
      ]
     },
     "metadata": {},
     "output_type": "display_data"
    }
   ],
   "source": [
    "update_metrics(PATH_TO_GROUPS, PATH_TO_GROUP_ADD, PATH_TO_ACTIVE_STUDS, PATH_TO_CHECKS)"
   ]
  },
  {
   "cell_type": "code",
   "execution_count": 44,
   "metadata": {},
   "outputs": [
    {
     "data": {
      "application/javascript": [
       "\n",
       "            setTimeout(function() {\n",
       "                var nbb_cell_id = 44;\n",
       "                var nbb_unformatted_code = \"# Create a function to visualize metrics\\n\\n\\ndef visualize_data(df_metrics):\\n\\n    sns.set_theme()\\n\\n    fig, axs = plt.subplots(ncols=3, figsize=(20, 5))\\n\\n    viz_arpu = sns.barplot(data=df_metrics, x=\\\"grp\\\", y=\\\"ARPU\\\", ax=axs[0])\\n    viz_arpu.set_xlabel(\\\"Experiment Group\\\")\\n    viz_arpu.set_ylabel(\\\"USD\\\")\\n    viz_arpu.set_title(\\\"ARPU\\\", fontsize=20)\\n\\n    viz_arpau = sns.barplot(data=df_metrics, x=\\\"grp\\\", y=\\\"ARPPU\\\", ax=axs[1])\\n    viz_arpau.set_xlabel(\\\"Experiment Group\\\")\\n    viz_arpau.set_ylabel(\\\"USD\\\")\\n    viz_arpau.set_title(\\\"ARPPU\\\", fontsize=20)\\n\\n    viz_arppu = sns.barplot(data=df_metrics, x=\\\"grp\\\", y=\\\"CR\\\", ax=axs[2])\\n    viz_arppu.set_xlabel(\\\"Experiment Group\\\")\\n    viz_arppu.set_ylabel(\\\"Percentage\\\")\\n    viz_arppu.set_title(\\\"CR\\\", fontsize=20)\\n\\n    plt.show()\";\n",
       "                var nbb_formatted_code = \"# Create a function to visualize metrics\\n\\n\\ndef visualize_data(df_metrics):\\n\\n    sns.set_theme()\\n\\n    fig, axs = plt.subplots(ncols=3, figsize=(20, 5))\\n\\n    viz_arpu = sns.barplot(data=df_metrics, x=\\\"grp\\\", y=\\\"ARPU\\\", ax=axs[0])\\n    viz_arpu.set_xlabel(\\\"Experiment Group\\\")\\n    viz_arpu.set_ylabel(\\\"USD\\\")\\n    viz_arpu.set_title(\\\"ARPU\\\", fontsize=20)\\n\\n    viz_arpau = sns.barplot(data=df_metrics, x=\\\"grp\\\", y=\\\"ARPPU\\\", ax=axs[1])\\n    viz_arpau.set_xlabel(\\\"Experiment Group\\\")\\n    viz_arpau.set_ylabel(\\\"USD\\\")\\n    viz_arpau.set_title(\\\"ARPPU\\\", fontsize=20)\\n\\n    viz_arppu = sns.barplot(data=df_metrics, x=\\\"grp\\\", y=\\\"CR\\\", ax=axs[2])\\n    viz_arppu.set_xlabel(\\\"Experiment Group\\\")\\n    viz_arppu.set_ylabel(\\\"Percentage\\\")\\n    viz_arppu.set_title(\\\"CR\\\", fontsize=20)\\n\\n    plt.show()\";\n",
       "                var nbb_cells = Jupyter.notebook.get_cells();\n",
       "                for (var i = 0; i < nbb_cells.length; ++i) {\n",
       "                    if (nbb_cells[i].input_prompt_number == nbb_cell_id) {\n",
       "                        if (nbb_cells[i].get_text() == nbb_unformatted_code) {\n",
       "                             nbb_cells[i].set_text(nbb_formatted_code);\n",
       "                        }\n",
       "                        break;\n",
       "                    }\n",
       "                }\n",
       "            }, 500);\n",
       "            "
      ],
      "text/plain": [
       "<IPython.core.display.Javascript object>"
      ]
     },
     "metadata": {},
     "output_type": "display_data"
    }
   ],
   "source": [
    "# Create a function to visualize metrics\n",
    "\n",
    "\n",
    "def visualize_data(df_metrics):\n",
    "\n",
    "    sns.set_theme()\n",
    "\n",
    "    fig, axs = plt.subplots(ncols=3, figsize=(20, 5))\n",
    "\n",
    "    viz_arpu = sns.barplot(data=df_metrics, x=\"grp\", y=\"ARPU\", ax=axs[0])\n",
    "    viz_arpu.set_xlabel(\"Experiment Group\")\n",
    "    viz_arpu.set_ylabel(\"USD\")\n",
    "    viz_arpu.set_title(\"ARPU\", fontsize=20)\n",
    "\n",
    "    viz_arpau = sns.barplot(data=df_metrics, x=\"grp\", y=\"ARPPU\", ax=axs[1])\n",
    "    viz_arpau.set_xlabel(\"Experiment Group\")\n",
    "    viz_arpau.set_ylabel(\"USD\")\n",
    "    viz_arpau.set_title(\"ARPPU\", fontsize=20)\n",
    "\n",
    "    viz_arppu = sns.barplot(data=df_metrics, x=\"grp\", y=\"CR\", ax=axs[2])\n",
    "    viz_arppu.set_xlabel(\"Experiment Group\")\n",
    "    viz_arppu.set_ylabel(\"Percentage\")\n",
    "    viz_arppu.set_title(\"CR\", fontsize=20)\n",
    "\n",
    "    plt.show()"
   ]
  },
  {
   "cell_type": "code",
   "execution_count": 45,
   "metadata": {
    "scrolled": true
   },
   "outputs": [
    {
     "data": {
      "image/png": "[encoded data removed]",
      "text/plain": [
       "<Figure size 2000x500 with 3 Axes>"
      ]
     },
     "metadata": {},
     "output_type": "display_data"
    },
    {
     "data": {
      "application/javascript": [
       "\n",
       "            setTimeout(function() {\n",
       "                var nbb_cell_id = 45;\n",
       "                var nbb_unformatted_code = \"visualize_data(df_metrics)\";\n",
       "                var nbb_formatted_code = \"visualize_data(df_metrics)\";\n",
       "                var nbb_cells = Jupyter.notebook.get_cells();\n",
       "                for (var i = 0; i < nbb_cells.length; ++i) {\n",
       "                    if (nbb_cells[i].input_prompt_number == nbb_cell_id) {\n",
       "                        if (nbb_cells[i].get_text() == nbb_unformatted_code) {\n",
       "                             nbb_cells[i].set_text(nbb_formatted_code);\n",
       "                        }\n",
       "                        break;\n",
       "                    }\n",
       "                }\n",
       "            }, 500);\n",
       "            "
      ],
      "text/plain": [
       "<IPython.core.display.Javascript object>"
      ]
     },
     "metadata": {},
     "output_type": "display_data"
    }
   ],
   "source": [
    "visualize_data(df_metrics)"
   ]
  },
  {
   "cell_type": "markdown",
   "metadata": {},
   "source": [
    "### 3. Creating SQL-queries to calculate main metrics"
   ]
  },
  {
   "cell_type": "markdown",
   "metadata": {},
   "source": [
    "#### 3.1 The most diligent students"
   ]
  },
  {
   "cell_type": "markdown",
   "metadata": {},
   "source": [
    "The objective is to calculate the number of diligent students (those who successfully completed more than 20 tasks). "
   ]
  },
  {
   "cell_type": "code",
   "execution_count": 46,
   "metadata": {},
   "outputs": [
    {
     "data": {
      "application/javascript": [
       "\n",
       "            setTimeout(function() {\n",
       "                var nbb_cell_id = 46;\n",
       "                var nbb_unformatted_code = \"connection_default = {\\n    \\\"host\\\": \\\"http://clickhouse.beslan.pro:8080\\\",\\n    \\\"database\\\": \\\"default\\\",\\n    \\\"user\\\": \\\"student\\\",\\n    \\\"password\\\": \\\"dpo_python_2020\\\",\\n}\";\n",
       "                var nbb_formatted_code = \"connection_default = {\\n    \\\"host\\\": \\\"http://clickhouse.beslan.pro:8080\\\",\\n    \\\"database\\\": \\\"default\\\",\\n    \\\"user\\\": \\\"student\\\",\\n    \\\"password\\\": \\\"dpo_python_2020\\\",\\n}\";\n",
       "                var nbb_cells = Jupyter.notebook.get_cells();\n",
       "                for (var i = 0; i < nbb_cells.length; ++i) {\n",
       "                    if (nbb_cells[i].input_prompt_number == nbb_cell_id) {\n",
       "                        if (nbb_cells[i].get_text() == nbb_unformatted_code) {\n",
       "                             nbb_cells[i].set_text(nbb_formatted_code);\n",
       "                        }\n",
       "                        break;\n",
       "                    }\n",
       "                }\n",
       "            }, 500);\n",
       "            "
      ],
      "text/plain": [
       "<IPython.core.display.Javascript object>"
      ]
     },
     "metadata": {},
     "output_type": "display_data"
    }
   ],
   "source": [
    "connection_default = {\n",
    "    \"host\": \"http://clickhouse.beslan.pro:8080\",\n",
    "    \"database\": \"default\",\n",
    "    \"user\": \"student\",\n",
    "    \"password\": \"dpo_python_2020\",\n",
    "}"
   ]
  },
  {
   "cell_type": "code",
   "execution_count": 47,
   "metadata": {},
   "outputs": [
    {
     "data": {
      "application/javascript": [
       "\n",
       "            setTimeout(function() {\n",
       "                var nbb_cell_id = 47;\n",
       "                var nbb_unformatted_code = \"q_1 = \\\"\\\"\\\"\\n    SELECT\\n        timest_month,\\n        COUNT(st_id) AS diligent_students\\n    FROM(\\n        SELECT \\n            st_id,\\n            SUM(correct) AS success_tasks,\\n            toStartOfMonth(timest) AS timest_month\\n        FROM default.peas\\n        GROUP BY timest_month, st_id\\n        HAVING success_tasks >= 20\\n        )\\n    GROUP BY timest_month\\n    \\\"\\\"\\\"\";\n",
       "                var nbb_formatted_code = \"q_1 = \\\"\\\"\\\"\\n    SELECT\\n        timest_month,\\n        COUNT(st_id) AS diligent_students\\n    FROM(\\n        SELECT \\n            st_id,\\n            SUM(correct) AS success_tasks,\\n            toStartOfMonth(timest) AS timest_month\\n        FROM default.peas\\n        GROUP BY timest_month, st_id\\n        HAVING success_tasks >= 20\\n        )\\n    GROUP BY timest_month\\n    \\\"\\\"\\\"\";\n",
       "                var nbb_cells = Jupyter.notebook.get_cells();\n",
       "                for (var i = 0; i < nbb_cells.length; ++i) {\n",
       "                    if (nbb_cells[i].input_prompt_number == nbb_cell_id) {\n",
       "                        if (nbb_cells[i].get_text() == nbb_unformatted_code) {\n",
       "                             nbb_cells[i].set_text(nbb_formatted_code);\n",
       "                        }\n",
       "                        break;\n",
       "                    }\n",
       "                }\n",
       "            }, 500);\n",
       "            "
      ],
      "text/plain": [
       "<IPython.core.display.Javascript object>"
      ]
     },
     "metadata": {},
     "output_type": "display_data"
    }
   ],
   "source": [
    "q_1 = \"\"\"\n",
    "    SELECT\n",
    "        timest_month,\n",
    "        COUNT(st_id) AS diligent_students\n",
    "    FROM(\n",
    "        SELECT \n",
    "            st_id,\n",
    "            SUM(correct) AS success_tasks,\n",
    "            toStartOfMonth(timest) AS timest_month\n",
    "        FROM default.peas\n",
    "        GROUP BY timest_month, st_id\n",
    "        HAVING success_tasks >= 20\n",
    "        )\n",
    "    GROUP BY timest_month\n",
    "    \"\"\""
   ]
  },
  {
   "cell_type": "code",
   "execution_count": 48,
   "metadata": {
    "scrolled": true
   },
   "outputs": [
    {
     "data": {
      "text/html": [
       "<div>\n",
       "<style scoped>\n",
       "    .dataframe tbody tr th:only-of-type {\n",
       "        vertical-align: middle;\n",
       "    }\n",
       "\n",
       "    .dataframe tbody tr th {\n",
       "        vertical-align: top;\n",
       "    }\n",
       "\n",
       "    .dataframe thead th {\n",
       "        text-align: right;\n",
       "    }\n",
       "</style>\n",
       "<table border=\"1\" class=\"dataframe\">\n",
       "  <thead>\n",
       "    <tr style=\"text-align: right;\">\n",
       "      <th></th>\n",
       "      <th>timest_month</th>\n",
       "      <th>diligent_students</th>\n",
       "    </tr>\n",
       "  </thead>\n",
       "  <tbody>\n",
       "    <tr>\n",
       "      <th>0</th>\n",
       "      <td>2021-10-01</td>\n",
       "      <td>136</td>\n",
       "    </tr>\n",
       "  </tbody>\n",
       "</table>\n",
       "</div>"
      ],
      "text/plain": [
       "  timest_month  diligent_students\n",
       "0   2021-10-01                136"
      ]
     },
     "execution_count": 48,
     "metadata": {},
     "output_type": "execute_result"
    },
    {
     "data": {
      "application/javascript": [
       "\n",
       "            setTimeout(function() {\n",
       "                var nbb_cell_id = 48;\n",
       "                var nbb_unformatted_code = \"q_diligent_students = ph.read_clickhouse(query=q_1, connection=connection_default)\\nq_diligent_students\";\n",
       "                var nbb_formatted_code = \"q_diligent_students = ph.read_clickhouse(query=q_1, connection=connection_default)\\nq_diligent_students\";\n",
       "                var nbb_cells = Jupyter.notebook.get_cells();\n",
       "                for (var i = 0; i < nbb_cells.length; ++i) {\n",
       "                    if (nbb_cells[i].input_prompt_number == nbb_cell_id) {\n",
       "                        if (nbb_cells[i].get_text() == nbb_unformatted_code) {\n",
       "                             nbb_cells[i].set_text(nbb_formatted_code);\n",
       "                        }\n",
       "                        break;\n",
       "                    }\n",
       "                }\n",
       "            }, 500);\n",
       "            "
      ],
      "text/plain": [
       "<IPython.core.display.Javascript object>"
      ]
     },
     "metadata": {},
     "output_type": "display_data"
    }
   ],
   "source": [
    "q_diligent_students = ph.read_clickhouse(query=q_1, connection=connection_default)\n",
    "q_diligent_students"
   ]
  },
  {
   "cell_type": "markdown",
   "metadata": {},
   "source": [
    "#### 3.2 Funnel optimization"
   ]
  },
  {
   "cell_type": "markdown",
   "metadata": {},
   "source": [
    "E-learning Platform offers the trial version, using which students can solve only 30 tasks a day for free. To have an unlimited number of tasks in a particular discipline, the full access must be purchased.\n",
    "\n",
    "The e-learning team desided to run an experiment to test the new payment screen. Having experiment results, the objective now is to calculate the following metrics for control and test groups:\n",
    "- ARPU\n",
    "- ARPAU\n",
    "- CR\n",
    "- CR of active students\n",
    "- CR of active students in Math\n",
    "\n",
    "*Student is considered as an active, if he successfully completes more than 10 tasks in any discipline. \\\n",
    "Student is considered as an active in Math, if he successfully completes 2 and more tasks in Math.*"
   ]
  },
  {
   "cell_type": "code",
   "execution_count": 49,
   "metadata": {},
   "outputs": [
    {
     "data": {
      "application/javascript": [
       "\n",
       "            setTimeout(function() {\n",
       "                var nbb_cell_id = 49;\n",
       "                var nbb_unformatted_code = \"q_2 = \\\"\\\"\\\"\\n    SELECT\\n        test_grp,\\n        ROUND(SUM(sum_purchased)/COUNT(groups.st_id),2) AS ARPU,\\n        ROUND(sumIf(sum_purchased, is_active = '1')/SUM(is_active),2) AS ARPAU,\\n        ROUND(SUM(has_purchased)/COUNT(groups.st_id)*100,2) AS CR,\\n        ROUND(sumIf(has_purchased, is_active = '1')/SUM(is_active)*100,2) AS CR_active,\\n        ROUND(sumIf(has_math_purchased, is_math_active = '1')/SUM(is_math_active)*100,2) AS CR_math_active\\n    FROM (\\n        SELECT *\\n        FROM default.studs) AS groups\\n    LEFT JOIN(\\n        SELECT\\n            st_id,\\n            has_purchased,\\n            sum_purchased,\\n            has_math_purchased,\\n            sum_math_purchased\\n        FROM (\\n            SELECT \\n                st_id,\\n                COUNT(DISTINCT(st_id)) AS has_purchased,\\n                SUM(money) AS sum_purchased\\n            FROM default.final_project_check\\n            GROUP BY st_id) AS a\\n        LEFT JOIN (\\n            SELECT \\n                st_id,\\n                COUNT(DISTINCT(st_id)) AS has_math_purchased,\\n                SUM(money) AS sum_math_purchased\\n            FROM default.final_project_check\\n            WHERE subject = 'Math'\\n            GROUP BY st_id) AS b\\n        ON a.st_id = b.st_id) AS purchases\\n    ON groups.st_id = purchases.st_id\\n    LEFT JOIN (\\n        SELECT\\n            IF(c.st_id = '', d.st_id, c.st_id) AS st_id_active,\\n            is_active,\\n            is_math_active\\n        FROM(    \\n            SELECT\\n                st_id,\\n                COUNT(st_id) AS is_active\\n            FROM(\\n                SELECT \\n                    st_id,\\n                    SUM(correct) AS correct_tasks\\n                FROM default.peas\\n                GROUP BY st_id\\n                HAVING correct_tasks > 10)\\n            GROUP BY st_id) AS c\\n        FULL JOIN(\\n            SELECT\\n                st_id,\\n                COUNT(st_id) AS is_math_active\\n            FROM(\\n                SELECT \\n                    st_id,\\n                    SUM(correct) AS correct_tasks\\n                FROM default.peas\\n                WHERE subject = 'Math'\\n                GROUP BY st_id\\n                HAVING correct_tasks >= 2)\\n            GROUP BY st_id) AS d\\n        ON c.st_id = d.st_id) AS active\\n    ON groups.st_id = active.st_id_active\\n    GROUP BY test_grp\\n    \\\"\\\"\\\"\";\n",
       "                var nbb_formatted_code = \"q_2 = \\\"\\\"\\\"\\n    SELECT\\n        test_grp,\\n        ROUND(SUM(sum_purchased)/COUNT(groups.st_id),2) AS ARPU,\\n        ROUND(sumIf(sum_purchased, is_active = '1')/SUM(is_active),2) AS ARPAU,\\n        ROUND(SUM(has_purchased)/COUNT(groups.st_id)*100,2) AS CR,\\n        ROUND(sumIf(has_purchased, is_active = '1')/SUM(is_active)*100,2) AS CR_active,\\n        ROUND(sumIf(has_math_purchased, is_math_active = '1')/SUM(is_math_active)*100,2) AS CR_math_active\\n    FROM (\\n        SELECT *\\n        FROM default.studs) AS groups\\n    LEFT JOIN(\\n        SELECT\\n            st_id,\\n            has_purchased,\\n            sum_purchased,\\n            has_math_purchased,\\n            sum_math_purchased\\n        FROM (\\n            SELECT \\n                st_id,\\n                COUNT(DISTINCT(st_id)) AS has_purchased,\\n                SUM(money) AS sum_purchased\\n            FROM default.final_project_check\\n            GROUP BY st_id) AS a\\n        LEFT JOIN (\\n            SELECT \\n                st_id,\\n                COUNT(DISTINCT(st_id)) AS has_math_purchased,\\n                SUM(money) AS sum_math_purchased\\n            FROM default.final_project_check\\n            WHERE subject = 'Math'\\n            GROUP BY st_id) AS b\\n        ON a.st_id = b.st_id) AS purchases\\n    ON groups.st_id = purchases.st_id\\n    LEFT JOIN (\\n        SELECT\\n            IF(c.st_id = '', d.st_id, c.st_id) AS st_id_active,\\n            is_active,\\n            is_math_active\\n        FROM(    \\n            SELECT\\n                st_id,\\n                COUNT(st_id) AS is_active\\n            FROM(\\n                SELECT \\n                    st_id,\\n                    SUM(correct) AS correct_tasks\\n                FROM default.peas\\n                GROUP BY st_id\\n                HAVING correct_tasks > 10)\\n            GROUP BY st_id) AS c\\n        FULL JOIN(\\n            SELECT\\n                st_id,\\n                COUNT(st_id) AS is_math_active\\n            FROM(\\n                SELECT \\n                    st_id,\\n                    SUM(correct) AS correct_tasks\\n                FROM default.peas\\n                WHERE subject = 'Math'\\n                GROUP BY st_id\\n                HAVING correct_tasks >= 2)\\n            GROUP BY st_id) AS d\\n        ON c.st_id = d.st_id) AS active\\n    ON groups.st_id = active.st_id_active\\n    GROUP BY test_grp\\n    \\\"\\\"\\\"\";\n",
       "                var nbb_cells = Jupyter.notebook.get_cells();\n",
       "                for (var i = 0; i < nbb_cells.length; ++i) {\n",
       "                    if (nbb_cells[i].input_prompt_number == nbb_cell_id) {\n",
       "                        if (nbb_cells[i].get_text() == nbb_unformatted_code) {\n",
       "                             nbb_cells[i].set_text(nbb_formatted_code);\n",
       "                        }\n",
       "                        break;\n",
       "                    }\n",
       "                }\n",
       "            }, 500);\n",
       "            "
      ],
      "text/plain": [
       "<IPython.core.display.Javascript object>"
      ]
     },
     "metadata": {},
     "output_type": "display_data"
    }
   ],
   "source": [
    "q_2 = \"\"\"\n",
    "    SELECT\n",
    "        test_grp,\n",
    "        ROUND(SUM(sum_purchased)/COUNT(groups.st_id),2) AS ARPU,\n",
    "        ROUND(sumIf(sum_purchased, is_active = '1')/SUM(is_active),2) AS ARPAU,\n",
    "        ROUND(SUM(has_purchased)/COUNT(groups.st_id)*100,2) AS CR,\n",
    "        ROUND(sumIf(has_purchased, is_active = '1')/SUM(is_active)*100,2) AS CR_active,\n",
    "        ROUND(sumIf(has_math_purchased, is_math_active = '1')/SUM(is_math_active)*100,2) AS CR_math_active\n",
    "    FROM (\n",
    "        SELECT *\n",
    "        FROM default.studs) AS groups\n",
    "    LEFT JOIN(\n",
    "        SELECT\n",
    "            st_id,\n",
    "            has_purchased,\n",
    "            sum_purchased,\n",
    "            has_math_purchased,\n",
    "            sum_math_purchased\n",
    "        FROM (\n",
    "            SELECT \n",
    "                st_id,\n",
    "                COUNT(DISTINCT(st_id)) AS has_purchased,\n",
    "                SUM(money) AS sum_purchased\n",
    "            FROM default.final_project_check\n",
    "            GROUP BY st_id) AS a\n",
    "        LEFT JOIN (\n",
    "            SELECT \n",
    "                st_id,\n",
    "                COUNT(DISTINCT(st_id)) AS has_math_purchased,\n",
    "                SUM(money) AS sum_math_purchased\n",
    "            FROM default.final_project_check\n",
    "            WHERE subject = 'Math'\n",
    "            GROUP BY st_id) AS b\n",
    "        ON a.st_id = b.st_id) AS purchases\n",
    "    ON groups.st_id = purchases.st_id\n",
    "    LEFT JOIN (\n",
    "        SELECT\n",
    "            IF(c.st_id = '', d.st_id, c.st_id) AS st_id_active,\n",
    "            is_active,\n",
    "            is_math_active\n",
    "        FROM(    \n",
    "            SELECT\n",
    "                st_id,\n",
    "                COUNT(st_id) AS is_active\n",
    "            FROM(\n",
    "                SELECT \n",
    "                    st_id,\n",
    "                    SUM(correct) AS correct_tasks\n",
    "                FROM default.peas\n",
    "                GROUP BY st_id\n",
    "                HAVING correct_tasks > 10)\n",
    "            GROUP BY st_id) AS c\n",
    "        FULL JOIN(\n",
    "            SELECT\n",
    "                st_id,\n",
    "                COUNT(st_id) AS is_math_active\n",
    "            FROM(\n",
    "                SELECT \n",
    "                    st_id,\n",
    "                    SUM(correct) AS correct_tasks\n",
    "                FROM default.peas\n",
    "                WHERE subject = 'Math'\n",
    "                GROUP BY st_id\n",
    "                HAVING correct_tasks >= 2)\n",
    "            GROUP BY st_id) AS d\n",
    "        ON c.st_id = d.st_id) AS active\n",
    "    ON groups.st_id = active.st_id_active\n",
    "    GROUP BY test_grp\n",
    "    \"\"\""
   ]
  },
  {
   "cell_type": "code",
   "execution_count": 50,
   "metadata": {
    "scrolled": true
   },
   "outputs": [
    {
     "data": {
      "text/html": [
       "<div>\n",
       "<style scoped>\n",
       "    .dataframe tbody tr th:only-of-type {\n",
       "        vertical-align: middle;\n",
       "    }\n",
       "\n",
       "    .dataframe tbody tr th {\n",
       "        vertical-align: top;\n",
       "    }\n",
       "\n",
       "    .dataframe thead th {\n",
       "        text-align: right;\n",
       "    }\n",
       "</style>\n",
       "<table border=\"1\" class=\"dataframe\">\n",
       "  <thead>\n",
       "    <tr style=\"text-align: right;\">\n",
       "      <th></th>\n",
       "      <th>test_grp</th>\n",
       "      <th>ARPU</th>\n",
       "      <th>ARPAU</th>\n",
       "      <th>CR</th>\n",
       "      <th>CR_active</th>\n",
       "      <th>CR_math_active</th>\n",
       "    </tr>\n",
       "  </thead>\n",
       "  <tbody>\n",
       "    <tr>\n",
       "      <th>0</th>\n",
       "      <td>control</td>\n",
       "      <td>4540.98</td>\n",
       "      <td>10393.70</td>\n",
       "      <td>4.92</td>\n",
       "      <td>11.02</td>\n",
       "      <td>6.12</td>\n",
       "    </tr>\n",
       "    <tr>\n",
       "      <th>1</th>\n",
       "      <td>pilot</td>\n",
       "      <td>11508.47</td>\n",
       "      <td>29739.58</td>\n",
       "      <td>10.85</td>\n",
       "      <td>26.04</td>\n",
       "      <td>9.52</td>\n",
       "    </tr>\n",
       "  </tbody>\n",
       "</table>\n",
       "</div>"
      ],
      "text/plain": [
       "  test_grp      ARPU     ARPAU     CR  CR_active  CR_math_active\n",
       "0  control   4540.98  10393.70   4.92      11.02            6.12\n",
       "1    pilot  11508.47  29739.58  10.85      26.04            9.52"
      ]
     },
     "execution_count": 50,
     "metadata": {},
     "output_type": "execute_result"
    },
    {
     "data": {
      "application/javascript": [
       "\n",
       "            setTimeout(function() {\n",
       "                var nbb_cell_id = 50;\n",
       "                var nbb_unformatted_code = \"q_metrics = ph.read_clickhouse(query=q_2, connection=connection_default)\\nq_metrics\";\n",
       "                var nbb_formatted_code = \"q_metrics = ph.read_clickhouse(query=q_2, connection=connection_default)\\nq_metrics\";\n",
       "                var nbb_cells = Jupyter.notebook.get_cells();\n",
       "                for (var i = 0; i < nbb_cells.length; ++i) {\n",
       "                    if (nbb_cells[i].input_prompt_number == nbb_cell_id) {\n",
       "                        if (nbb_cells[i].get_text() == nbb_unformatted_code) {\n",
       "                             nbb_cells[i].set_text(nbb_formatted_code);\n",
       "                        }\n",
       "                        break;\n",
       "                    }\n",
       "                }\n",
       "            }, 500);\n",
       "            "
      ],
      "text/plain": [
       "<IPython.core.display.Javascript object>"
      ]
     },
     "metadata": {},
     "output_type": "display_data"
    }
   ],
   "source": [
    "q_metrics = ph.read_clickhouse(query=q_2, connection=connection_default)\n",
    "q_metrics"
   ]
  }
 ],
 "metadata": {
  "kernelspec": {
   "display_name": "Python 3 (ipykernel)",
   "language": "python",
   "name": "python3"
  },
  "language_info": {
   "codemirror_mode": {
    "name": "ipython",
    "version": 3
   },
   "file_extension": ".py",
   "mimetype": "text/x-python",
   "name": "python",
   "nbconvert_exporter": "python",
   "pygments_lexer": "ipython3",
   "version": "3.9.13"
  }
 },
 "nbformat": 4,
 "nbformat_minor": 4
}
